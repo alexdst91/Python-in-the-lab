{
 "cells": [
  {
   "cell_type": "markdown",
   "metadata": {},
   "source": [
    "# Python-in-the-lab: introduction to the classes I"
   ]
  },
  {
   "cell_type": "code",
   "execution_count": 1,
   "metadata": {
    "collapsed": false
   },
   "outputs": [],
   "source": [
    "import os\n",
    "import numpy as np\n",
    "import scipy.integrate as integrate\n",
    "import matplotlib.pylab as plt\n",
    "%matplotlib inline"
   ]
  },
  {
   "cell_type": "code",
   "execution_count": 2,
   "metadata": {
    "collapsed": false
   },
   "outputs": [
    {
     "data": {
      "image/png": "[encoded data removed]",
      "text/plain": [
       "<matplotlib.figure.Figure at 0x7f37c8df5a90>"
      ]
     },
     "metadata": {},
     "output_type": "display_data"
    }
   ],
   "source": [
    "mainDir = \"/home/gf/src/Python/Python-in-the-lab/Bk\"\n",
    "# Today we concentrate on a different set of data\n",
    "filename = \"F64ac_0.01_S.dat\"\n",
    "# These are distributions of sizes\n",
    "filename = os.path.join(mainDir, filename)\n",
    "s, ps = np.loadtxt(filename, comments=\"#\", unpack=True)\n",
    "plt.loglog(s, ps, 'o');"
   ]
  },
  {
   "cell_type": "markdown",
   "metadata": {},
   "source": [
    "### We would like to work a little with the data\n",
    "\n",
    "The idea is the following:\n",
    "\n",
    "Can we construction something general and sufficiently abstract from which we can extract the values more easily?"
   ]
  },
  {
   "cell_type": "code",
   "execution_count": 3,
   "metadata": {
    "collapsed": false
   },
   "outputs": [],
   "source": [
    "# Your first class\n",
    "class Sdist: # Note the capital letter\n",
    "    def __init__(self, filename): # Self???\n",
    "        self.size, self.ps = np.loadtxt(filename, comments=\"#\", unpack=True)\n",
    "\n",
    "# Done?\n",
    "    \n",
    "filename = \"F64ac_0.01_S.dat\"\n",
    "filename = os.path.join(mainDir, filename)\n",
    "s001 = Sdist(filename)\n",
    "# What is \"self\" ???"
   ]
  },
  {
   "cell_type": "markdown",
   "metadata": {},
   "source": [
    "*self* is not a reserved word, but it is universality used a (self)-reference to the class.\n",
    "It simply indentifies the class itself.\n",
    "\n",
    "s001 is a call to the class, named a *instance* of the class"
   ]
  },
  {
   "cell_type": "markdown",
   "metadata": {},
   "source": [
    "s001.<tab> ? \n",
    "s001.__???"
   ]
  },
  {
   "cell_type": "code",
   "execution_count": 16,
   "metadata": {
    "collapsed": false
   },
   "outputs": [],
   "source": [
    "# Let's redifine the class\n",
    "# as I want to get rid of the zeros of ps\n",
    "class Sdist:\n",
    "    def __init__(self, filename):\n",
    "        self.size, self.ps = np.loadtxt(filename, comments=\"#\", unpack=True)\n",
    "        s_len_ori = len(self.size)\n",
    "        self.size, self.ps = self.avoid_zeros()\n",
    "        print(\"%i lines deleted\" % (s_len_ori - len(self.size)))\n",
    "    \n",
    "    def avoid_zeros(self):\n",
    "        is_not_zero = self.ps != 0\n",
    "        s = self.size[is_not_zero]\n",
    "        ps = self.ps[is_not_zero]\n",
    "        return s, ps"
   ]
  },
  {
   "cell_type": "code",
   "execution_count": 17,
   "metadata": {
    "collapsed": false
   },
   "outputs": [
    {
     "name": "stdout",
     "output_type": "stream",
     "text": [
      "14 lines deleted\n"
     ]
    },
    {
     "data": {
      "image/png": "[encoded data removed]",
      "text/plain": [
       "<matplotlib.figure.Figure at 0x7f37c8d33668>"
      ]
     },
     "metadata": {},
     "output_type": "display_data"
    }
   ],
   "source": [
    "s001 = Sdist(filename)\n",
    "plt.loglog(s001.size, s001.ps, 'o');"
   ]
  },
  {
   "cell_type": "code",
   "execution_count": 18,
   "metadata": {
    "collapsed": false
   },
   "outputs": [
    {
     "data": {
      "text/plain": [
       "array([  2.15285000e+01,   1.39254000e+01,   8.90375000e+00,\n",
       "         5.06903000e+00,   2.97192000e+00,   1.50779000e+00,\n",
       "         5.68595000e-01,   2.21021000e-01,   7.63318000e-03,\n",
       "         6.06325000e-03])"
      ]
     },
     "execution_count": 18,
     "metadata": {},
     "output_type": "execute_result"
    }
   ],
   "source": [
    "s001.ps[-10:] # good!"
   ]
  },
  {
   "cell_type": "markdown",
   "metadata": {},
   "source": [
    "###  Improvements\n",
    "* Why don't we give just the frequency, so it takes care of all the rest?\n",
    "* Can we leave the possibility to avoid the zeros as a choice?"
   ]
  },
  {
   "cell_type": "code",
   "execution_count": 19,
   "metadata": {
    "collapsed": true
   },
   "outputs": [],
   "source": [
    "# Let's redifine the class again\n",
    "class Sdist:\n",
    "    def __init__(self, freq, mainDir, avoid_zeros=True):\n",
    "        filename = \"F64ac_%s_S.dat\" % freq\n",
    "        filename = os.path.join(mainDir, filename)\n",
    "        self.size, self.ps = np.loadtxt(filename, comments=\"#\", unpack=True)\n",
    "        s_len_ori = len(self.size)\n",
    "        if avoid_zeros:\n",
    "            self.size, self.ps = self.avoid_zeros()\n",
    "            print(\"%i lines deleted\" % (s_len_ori - len(self.size)))\n",
    "    \n",
    "    def avoid_zeros(self):\n",
    "        is_not_zero = self.ps != 0\n",
    "        s = self.size[is_not_zero]\n",
    "        ps = self.ps[is_not_zero]\n",
    "        return s, ps"
   ]
  },
  {
   "cell_type": "code",
   "execution_count": 20,
   "metadata": {
    "collapsed": false
   },
   "outputs": [
    {
     "name": "stdout",
     "output_type": "stream",
     "text": [
      "14 lines deleted\n"
     ]
    },
    {
     "data": {
      "image/png": "[encoded data removed]",
      "text/plain": [
       "<matplotlib.figure.Figure at 0x7f37914d2470>"
      ]
     },
     "metadata": {},
     "output_type": "display_data"
    }
   ],
   "source": [
    "s001 = Sdist(0.01, mainDir) # Is it better to pass a string or a float?\n",
    "plt.loglog(s001.size, s001.ps, 'o');"
   ]
  },
  {
   "cell_type": "code",
   "execution_count": 21,
   "metadata": {
    "collapsed": false
   },
   "outputs": [
    {
     "data": {
      "text/plain": [
       "dict_keys(['size', 'ps'])"
      ]
     },
     "execution_count": 21,
     "metadata": {},
     "output_type": "execute_result"
    }
   ],
   "source": [
    "# s001.ps, s001.size: Nothing else?\n",
    "s001.__dict__.keys()"
   ]
  },
  {
   "cell_type": "markdown",
   "metadata": {},
   "source": [
    "### You seem to be able to do it for all the frequencies..."
   ]
  },
  {
   "cell_type": "code",
   "execution_count": 22,
   "metadata": {
    "collapsed": false
   },
   "outputs": [
    {
     "name": "stdout",
     "output_type": "stream",
     "text": [
      "14 lines deleted\n",
      "12 lines deleted\n",
      "14 lines deleted\n"
     ]
    },
    {
     "data": {
      "text/plain": [
       "{0.01: <__main__.Sdist at 0x7f37c8d23588>,\n",
       " 0.02: <__main__.Sdist at 0x7f37c8d23240>,\n",
       " 0.029999999999999999: <__main__.Sdist at 0x7f37c8d23978>}"
      ]
     },
     "execution_count": 22,
     "metadata": {},
     "output_type": "execute_result"
    }
   ],
   "source": [
    "# Can we now do it for the 3 frequencies?\n",
    "freqs = np.arange(1,4) / 100\n",
    "# Can I make a dictionary?\n",
    "s_distributions = dict()\n",
    "for freq in freqs:\n",
    "    s_distributions[freq] = Sdist(freq, mainDir)\n",
    "\n",
    "s_distributions"
   ]
  },
  {
   "cell_type": "code",
   "execution_count": 23,
   "metadata": {
    "collapsed": false
   },
   "outputs": [
    {
     "data": {
      "image/png": "[encoded data removed]",
      "text/plain": [
       "<matplotlib.figure.Figure at 0x7f3791468518>"
      ]
     },
     "metadata": {},
     "output_type": "display_data"
    }
   ],
   "source": [
    "# Let's plot it\n",
    "for freq in freqs:\n",
    "    sd = s_distributions[freq]\n",
    "    label = \"%.2f Hz\" % freq\n",
    "    plt.loglog(sd.size, sd.ps, 'o', label=label)\n",
    "plt.legend(numpoints=1); "
   ]
  },
  {
   "cell_type": "markdown",
   "metadata": {},
   "source": [
    "### Ok, ok, but this not so general enough!\n",
    "#### I do not remember the frequencies, and I am interested in the files ending with S, T, u, v. Can we do something more general? "
   ]
  },
  {
   "cell_type": "code",
   "execution_count": 52,
   "metadata": {
    "collapsed": false
   },
   "outputs": [],
   "source": [
    "# Let's redifine the class\n",
    "# in more general terms\n",
    "import glob, os, sys\n",
    "\n",
    "class Dist:\n",
    "    def __init__(self, dist_type, mainDir):\n",
    "        self.mainDir = mainDir\n",
    "        # Check if the dist_type exists\n",
    "        # How can we do it?\n",
    "        dis_types = self.get_distribution_types()\n",
    "        print(dis_types)\n",
    "        if dist_type not in dis_types:\n",
    "            print(\"Type %s does not exist. Exit\" % dist_type)\n",
    "            sys.exit()\n",
    "        filename = \"F64ac_%s_S.dat\" % (freq)\n",
    "        filename = os.path.join(mainDir, filename)\n",
    "        self.size, self.ps = np.loadtxt(filename, comments=\"#\", unpack=True)\n",
    "        s_len = len(self.size)\n",
    "        self.size, self.ps = self.avoid_zeros()\n",
    "        print(\"%i lines deleted\" % (s_len - len(self.size)))\n",
    "    \n",
    "    def avoid_zeros(self):\n",
    "        is_not_zero = self.ps != 0\n",
    "        s = self.size[is_not_zero]\n",
    "        ps = self.ps[is_not_zero]\n",
    "        return s, ps\n",
    "    \n",
    "    def get_distribution_types(self, maxlen=1):\n",
    "        filenames = glob.glob(os.path.join(self.mainDir, \"*.dat\"))\n",
    "        filenames = [os.path.splitext(filename)[0] for filename in filenames]\n",
    "        filenames = [filename.split(\"_\", 2)[2] for filename in filenames]\n",
    "        dis_types = [filename for filename in filenames if len(filename) <= maxlen]\n",
    "        dis_types = set(dis_types)\n",
    "        return dis_types"
   ]
  },
  {
   "cell_type": "code",
   "execution_count": 51,
   "metadata": {
    "collapsed": false
   },
   "outputs": [
    {
     "name": "stdout",
     "output_type": "stream",
     "text": [
      "{'v', 'T', 'S', 'E'}\n",
      "14 lines deleted\n",
      "{'v', 'T', 'S', 'E'}\n",
      "14 lines deleted\n"
     ]
    }
   ],
   "source": [
    "d_T = Dist(\"T\", mainDir)\n",
    "d_S = Dist(\"S\", mainDir)\n",
    "# I see a problem, by the way... do we need to calculate the available types everytime?"
   ]
  },
  {
   "cell_type": "markdown",
   "metadata": {},
   "source": [
    "### It is better to stop for a second. This starts to be pretty complex. I cannot put everything here\n",
    "\n",
    "Let's make a separated script for the class. We will learn how to use it...\n",
    "\n",
    "[...]\n",
    "\n",
    "    Done? See distributions.py and distributions2.py"
   ]
  },
  {
   "cell_type": "code",
   "execution_count": 1,
   "metadata": {
    "collapsed": false
   },
   "outputs": [
    {
     "ename": "NameError",
     "evalue": "name 'mainDir' is not defined",
     "output_type": "error",
     "traceback": [
      "\u001b[0;31m---------------------------------------------------------------------------\u001b[0m",
      "\u001b[0;31mNameError\u001b[0m                                 Traceback (most recent call last)",
      "\u001b[0;32m<ipython-input-1-a7075de83402>\u001b[0m in \u001b[0;36m<module>\u001b[0;34m()\u001b[0m\n\u001b[1;32m      2\u001b[0m \u001b[0;32mimport\u001b[0m \u001b[0mdistributions2\u001b[0m \u001b[0;32mas\u001b[0m \u001b[0md2\u001b[0m\u001b[0;34m\u001b[0m\u001b[0m\n\u001b[1;32m      3\u001b[0m \u001b[0;34m\u001b[0m\u001b[0m\n\u001b[0;32m----> 4\u001b[0;31m \u001b[0mdcoll\u001b[0m \u001b[0;34m=\u001b[0m \u001b[0md2\u001b[0m\u001b[0;34m.\u001b[0m\u001b[0mDistCollector\u001b[0m\u001b[0;34m(\u001b[0m\u001b[0mmainDir\u001b[0m\u001b[0;34m)\u001b[0m\u001b[0;34m\u001b[0m\u001b[0m\n\u001b[0m",
      "\u001b[0;31mNameError\u001b[0m: name 'mainDir' is not defined"
     ]
    }
   ],
   "source": [
    "# Let suppose you have finished distributions2.py\n",
    "import distributions2 as d2\n",
    "\n",
    "dcoll = d2.DistCollector(mainDir)"
   ]
  },
  {
   "cell_type": "code",
   "execution_count": 27,
   "metadata": {
    "collapsed": false
   },
   "outputs": [
    {
     "ename": "TypeError",
     "evalue": "__init__() got an unexpected keyword argument 'numcols'",
     "output_type": "error",
     "traceback": [
      "\u001b[0;31m---------------------------------------------------------------------------\u001b[0m",
      "\u001b[0;31mTypeError\u001b[0m                                 Traceback (most recent call last)",
      "\u001b[0;32m<ipython-input-27-be76b6a0c870>\u001b[0m in \u001b[0;36m<module>\u001b[0;34m()\u001b[0m\n\u001b[0;32m----> 1\u001b[0;31m \u001b[0mdcoll\u001b[0m\u001b[0;34m.\u001b[0m\u001b[0mplot\u001b[0m\u001b[0;34m(\u001b[0m\u001b[0;34m\"S\"\u001b[0m\u001b[0;34m)\u001b[0m\u001b[0;34m\u001b[0m\u001b[0m\n\u001b[0m",
      "\u001b[0;32m/home/gf/src/Python/Python-in-the-lab/distributions2.py\u001b[0m in \u001b[0;36mplot\u001b[0;34m(self, dis_type, loglog)\u001b[0m\n\u001b[1;32m     69\u001b[0m                 \u001b[0max\u001b[0m\u001b[0;34m.\u001b[0m\u001b[0mloglog\u001b[0m\u001b[0;34m(\u001b[0m\u001b[0md\u001b[0m\u001b[0;34m.\u001b[0m\u001b[0mx\u001b[0m\u001b[0;34m,\u001b[0m \u001b[0md\u001b[0m\u001b[0;34m.\u001b[0m\u001b[0my\u001b[0m\u001b[0;34m,\u001b[0m \u001b[0;34m'o'\u001b[0m\u001b[0;34m,\u001b[0m \u001b[0mlabel\u001b[0m\u001b[0;34m=\u001b[0m\u001b[0mlb\u001b[0m\u001b[0;34m)\u001b[0m\u001b[0;34m\u001b[0m\u001b[0m\n\u001b[1;32m     70\u001b[0m             \u001b[0;32melse\u001b[0m\u001b[0;34m:\u001b[0m\u001b[0;34m\u001b[0m\u001b[0m\n\u001b[0;32m---> 71\u001b[0;31m                 \u001b[0max\u001b[0m\u001b[0;34m.\u001b[0m\u001b[0mplot\u001b[0m\u001b[0;34m(\u001b[0m\u001b[0md\u001b[0m\u001b[0;34m.\u001b[0m\u001b[0mx\u001b[0m\u001b[0;34m,\u001b[0m \u001b[0md\u001b[0m\u001b[0;34m.\u001b[0m\u001b[0my\u001b[0m\u001b[0;34m,\u001b[0m \u001b[0mlabel\u001b[0m\u001b[0;34m=\u001b[0m\u001b[0mlb\u001b[0m\u001b[0;34m)\u001b[0m\u001b[0;34m\u001b[0m\u001b[0m\n\u001b[0m\u001b[1;32m     72\u001b[0m         \u001b[0max\u001b[0m\u001b[0;34m.\u001b[0m\u001b[0mlegend\u001b[0m\u001b[0;34m(\u001b[0m\u001b[0mnumpoints\u001b[0m\u001b[0;34m=\u001b[0m\u001b[0;36m1\u001b[0m\u001b[0;34m)\u001b[0m\u001b[0;34m\u001b[0m\u001b[0m\n\u001b[1;32m     73\u001b[0m \u001b[0;34m\u001b[0m\u001b[0m\n",
      "\u001b[0;32m/usr/lib/python3/dist-packages/matplotlib/axes/_axes.py\u001b[0m in \u001b[0;36mlegend\u001b[0;34m(self, *args, **kwargs)\u001b[0m\n\u001b[1;32m    536\u001b[0m             \u001b[0;32mraise\u001b[0m \u001b[0mTypeError\u001b[0m\u001b[0;34m(\u001b[0m\u001b[0;34m'Invalid arguments to legend.'\u001b[0m\u001b[0;34m)\u001b[0m\u001b[0;34m\u001b[0m\u001b[0m\n\u001b[1;32m    537\u001b[0m \u001b[0;34m\u001b[0m\u001b[0m\n\u001b[0;32m--> 538\u001b[0;31m         \u001b[0mself\u001b[0m\u001b[0;34m.\u001b[0m\u001b[0mlegend_\u001b[0m \u001b[0;34m=\u001b[0m \u001b[0mmlegend\u001b[0m\u001b[0;34m.\u001b[0m\u001b[0mLegend\u001b[0m\u001b[0;34m(\u001b[0m\u001b[0mself\u001b[0m\u001b[0;34m,\u001b[0m \u001b[0mhandles\u001b[0m\u001b[0;34m,\u001b[0m \u001b[0mlabels\u001b[0m\u001b[0;34m,\u001b[0m \u001b[0;34m**\u001b[0m\u001b[0mkwargs\u001b[0m\u001b[0;34m)\u001b[0m\u001b[0;34m\u001b[0m\u001b[0m\n\u001b[0m\u001b[1;32m    539\u001b[0m         \u001b[0mself\u001b[0m\u001b[0;34m.\u001b[0m\u001b[0mlegend_\u001b[0m\u001b[0;34m.\u001b[0m\u001b[0m_remove_method\u001b[0m \u001b[0;34m=\u001b[0m \u001b[0;32mlambda\u001b[0m \u001b[0mh\u001b[0m\u001b[0;34m:\u001b[0m \u001b[0msetattr\u001b[0m\u001b[0;34m(\u001b[0m\u001b[0mself\u001b[0m\u001b[0;34m,\u001b[0m \u001b[0;34m'legend_'\u001b[0m\u001b[0;34m,\u001b[0m \u001b[0;32mNone\u001b[0m\u001b[0;34m)\u001b[0m\u001b[0;34m\u001b[0m\u001b[0m\n\u001b[1;32m    540\u001b[0m         \u001b[0;32mreturn\u001b[0m \u001b[0mself\u001b[0m\u001b[0;34m.\u001b[0m\u001b[0mlegend_\u001b[0m\u001b[0;34m\u001b[0m\u001b[0m\n",
      "\u001b[0;31mTypeError\u001b[0m: __init__() got an unexpected keyword argument 'numcols'"
     ]
    },
    {
     "data": {
      "image/png": "[encoded data removed]",
      "text/plain": [
       "<matplotlib.figure.Figure at 0x7f37915ce0f0>"
      ]
     },
     "metadata": {},
     "output_type": "display_data"
    }
   ],
   "source": [
    "\n",
    "dcoll.plot(\"S\")"
   ]
  },
  {
   "cell_type": "markdown",
   "metadata": {
    "collapsed": false
   },
   "source": [
    "### Classes can redefine operations"
   ]
  },
  {
   "cell_type": "code",
   "execution_count": null,
   "metadata": {
    "collapsed": false
   },
   "outputs": [],
   "source": [
    "class Rectangle:\n",
    "    \"\"\"\n",
    "    This class defines operations on Rectangles\n",
    "    \"\"\"\n",
    "    def __init__(self, base, height):\n",
    "        self.base = base\n",
    "        self.height = height\n",
    "        self.area = base * height\n",
    "        self.p = self._get_perim()\n",
    "        self._diagonal = (base*base + height * height)**0.5 \n",
    "    \n",
    "    def _get_perim(self, half=False):\n",
    "        \"\"\"\n",
    "        Get the perimeter of the Rectange\n",
    "        Parameters:\n",
    "        ----------\n",
    "        half: Bool.\n",
    "             If True, get the semiperimeter\n",
    "        \"\"\"\n",
    "        p = self.base + self.height\n",
    "        if half:\n",
    "            return p\n",
    "        else:\n",
    "            return 2 * p\n",
    "        \n",
    "    def print_perimeter(self):\n",
    "        return \"The perimeter is %f\" % self.p\n",
    "    \n",
    "    def __add__(self, other):\n",
    "        base = self.base + other.base\n",
    "        height = self.height + other.height\n",
    "        return Rectangle(base,height)\n",
    "    \n",
    "    def __repr__(self):\n",
    "        return \"Rectangle of {0} by {1}\".format(self.base, self.height)\n",
    "\n",
    "p0 = Rectangle(3,2)\n",
    "p1 = Rectangle(1,1)\n",
    "p2 = Rectangle(2,0.5)"
   ]
  },
  {
   "cell_type": "code",
   "execution_count": null,
   "metadata": {
    "collapsed": false
   },
   "outputs": [],
   "source": [
    "print p0.base, p0.height, p0.p, p0.area\n",
    "p0.print_perimeter()"
   ]
  },
  {
   "cell_type": "code",
   "execution_count": null,
   "metadata": {
    "collapsed": false
   },
   "outputs": [],
   "source": [
    "# Construct a larger Rectange\n",
    "p3 = p0 + p1\n",
    "print p3.base, p3.height, p3.p, p3.area"
   ]
  },
  {
   "cell_type": "code",
   "execution_count": null,
   "metadata": {
    "collapsed": false
   },
   "outputs": [],
   "source": [
    "p3"
   ]
  },
  {
   "cell_type": "code",
   "execution_count": null,
   "metadata": {
    "collapsed": false
   },
   "outputs": [],
   "source": []
  }
 ],
 "metadata": {
  "kernelspec": {
   "display_name": "Python 3",
   "language": "python",
   "name": "python3"
  },
  "language_info": {
   "codemirror_mode": {
    "name": "ipython",
    "version": 3
   },
   "file_extension": ".py",
   "mimetype": "text/x-python",
   "name": "python",
   "nbconvert_exporter": "python",
   "pygments_lexer": "ipython3",
   "version": "3.5.2"
  }
 },
 "nbformat": 4,
 "nbformat_minor": 0
}
