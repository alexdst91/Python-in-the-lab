{
 "cells": [
  {
   "cell_type": "markdown",
   "metadata": {},
   "source": [
    "# Python-in-the-lab: introduction to the classes I"
   ]
  },
  {
   "cell_type": "code",
   "execution_count": 1,
   "metadata": {
    "collapsed": false
   },
   "outputs": [],
   "source": [
    "import os\n",
    "import numpy as np\n",
    "import scipy.integrate as integrate\n",
    "import matplotlib.pylab as plt\n",
    "%matplotlib inline"
   ]
  },
  {
   "cell_type": "code",
   "execution_count": 2,
   "metadata": {
    "collapsed": false
   },
   "outputs": [
    {
     "data": {
      "image/png": "[encoded data removed]",
      "text/plain": [
       "<matplotlib.figure.Figure at 0x7ffa4b752a58>"
      ]
     },
     "metadata": {},
     "output_type": "display_data"
    }
   ],
   "source": [
    "mainDir = \"/home/gf/src/Python/Python-in-the-lab/Bk\"\n",
    "# Today we concentrate on a different set of data\n",
    "filename = \"F64ac_0.01_S.dat\"\n",
    "# These are distributions of sizes\n",
    "filename = os.path.join(mainDir, filename)\n",
    "s, ps = np.loadtxt(filename, comments=\"#\", unpack=True)\n",
    "plt.loglog(s, ps, 'o');"
   ]
  },
  {
   "cell_type": "markdown",
   "metadata": {},
   "source": [
    "### We would like to work a little with the data\n",
    "\n",
    "The idea is the following:\n",
    "\n",
    "Can we construction something general and sufficiently abstract from which we can extract the values more easily?"
   ]
  },
  {
   "cell_type": "code",
   "execution_count": 3,
   "metadata": {
    "collapsed": false
   },
   "outputs": [],
   "source": [
    "# Your first class\n",
    "class Sdist: # Note the capital letter\n",
    "    def __init__(self, filename): # Self???\n",
    "        self.size, self.ps = np.loadtxt(filename, comments=\"#\", unpack=True)\n",
    "\n",
    "# Done?\n",
    "THIS_IS_A_CONSTANT = 131231.23131   \n",
    "filename = \"F64ac_0.01_S.dat\"\n",
    "filename = os.path.join(mainDir, filename)\n",
    "s001 = Sdist(filename)\n",
    "# What is \"self\" ???"
   ]
  },
  {
   "cell_type": "markdown",
   "metadata": {},
   "source": [
    "*self* is not a reserved word, but it is universality used a (self)-reference to the class.\n",
    "It simply indentifies the class itself.\n",
    "\n",
    "s001 is a call to the class, named a *instance* of the class"
   ]
  },
  {
   "cell_type": "code",
   "execution_count": 4,
   "metadata": {
    "collapsed": false
   },
   "outputs": [
    {
     "data": {
      "text/plain": [
       "array([  7.09426000e+05,   4.26445000e+05,   2.41955000e+04,\n",
       "         1.50198000e+07,   7.44998000e+06,   2.29251000e+07,\n",
       "         1.12218000e+07,   1.05320000e+07,   6.66718000e+06,\n",
       "         1.16563000e+07,   1.09002000e+07,   6.96781000e+06,\n",
       "         1.24547000e+07,   1.95546000e+07,   7.87439000e+06,\n",
       "         6.28456000e+06,   1.00967000e+07,   6.11875000e+06,\n",
       "         7.34575000e+06,   5.14724000e+06,   4.00538000e+06,\n",
       "         2.85764000e+06,   2.30620000e+06,   1.50140000e+06,\n",
       "         1.02132000e+06,   6.97577000e+05,   4.54409000e+05,\n",
       "         3.07353000e+05,   2.12505000e+05,   1.47726000e+05,\n",
       "         9.67887000e+04,   6.87491000e+04,   4.69031000e+04,\n",
       "         3.30666000e+04,   2.30293000e+04,   1.62495000e+04,\n",
       "         1.15204000e+04,   7.98031000e+03,   5.68260000e+03,\n",
       "         4.23867000e+03,   2.97384000e+03,   2.13527000e+03,\n",
       "         1.55214000e+03,   1.17525000e+03,   8.23620000e+02,\n",
       "         6.61500000e+02,   4.52724000e+02,   3.50047000e+02,\n",
       "         2.60123000e+02,   1.88037000e+02,   1.34791000e+02,\n",
       "         9.54933000e+01,   7.68208000e+01,   5.41981000e+01,\n",
       "         4.18298000e+01,   2.87398000e+01,   2.15285000e+01,\n",
       "         1.39254000e+01,   8.90375000e+00,   5.06903000e+00,\n",
       "         2.97192000e+00,   1.50779000e+00,   5.68595000e-01,\n",
       "         2.21021000e-01,   7.63318000e-03,   6.06325000e-03])"
      ]
     },
     "execution_count": 4,
     "metadata": {},
     "output_type": "execute_result"
    }
   ],
   "source": [
    "s001.ps[s001.ps != 0]"
   ]
  },
  {
   "cell_type": "markdown",
   "metadata": {},
   "source": [
    "s001.<tab> ? \n",
    "s001.__???"
   ]
  },
  {
   "cell_type": "code",
   "execution_count": 5,
   "metadata": {
    "collapsed": false
   },
   "outputs": [],
   "source": [
    "# Let's redifine the class\n",
    "# as I want to get rid of the zeros of ps\n",
    "class Sdist:\n",
    "    def __init__(self, filename):\n",
    "        self.size, self.ps = np.loadtxt(filename, comments=\"#\", unpack=True)\n",
    "        s_len_ori = len(self.size)\n",
    "        self.size, self.ps = self.avoid_zeros()\n",
    "        print(\"%i lines deleted\" % (s_len_ori - len(self.size)))\n",
    "    \n",
    "    def avoid_zeros(self):\n",
    "        is_not_zero = self.ps != 0\n",
    "        s = self.size[is_not_zero]\n",
    "        ps = self.ps[is_not_zero]\n",
    "        return s, ps"
   ]
  },
  {
   "cell_type": "code",
   "execution_count": 6,
   "metadata": {
    "collapsed": false
   },
   "outputs": [
    {
     "name": "stdout",
     "output_type": "stream",
     "text": [
      "14 lines deleted\n"
     ]
    },
    {
     "data": {
      "image/png": "[encoded data removed]",
      "text/plain": [
       "<matplotlib.figure.Figure at 0x7ffa13f9ffd0>"
      ]
     },
     "metadata": {},
     "output_type": "display_data"
    }
   ],
   "source": [
    "s001 = Sdist(filename)\n",
    "plt.loglog(s001.size, s001.ps, 'o');"
   ]
  },
  {
   "cell_type": "code",
   "execution_count": 7,
   "metadata": {
    "collapsed": false
   },
   "outputs": [
    {
     "data": {
      "text/plain": [
       "array([  2.15285000e+01,   1.39254000e+01,   8.90375000e+00,\n",
       "         5.06903000e+00,   2.97192000e+00,   1.50779000e+00,\n",
       "         5.68595000e-01,   2.21021000e-01,   7.63318000e-03,\n",
       "         6.06325000e-03])"
      ]
     },
     "execution_count": 7,
     "metadata": {},
     "output_type": "execute_result"
    }
   ],
   "source": [
    "s001.ps[-10:] # good!"
   ]
  },
  {
   "cell_type": "markdown",
   "metadata": {},
   "source": [
    "###  Improvements\n",
    "* Why don't we give just the frequency, so it takes care of all the rest?\n",
    "* Can we leave the possibility to avoid the zeros as a choice?"
   ]
  },
  {
   "cell_type": "code",
   "execution_count": 8,
   "metadata": {
    "collapsed": true
   },
   "outputs": [],
   "source": [
    "# Let's redifine the class again\n",
    "class Sdist:\n",
    "    def __init__(self, freq, mainDir, is_avoid_zeros=True):\n",
    "        filename = \"F64ac_%s_S.dat\" % freq\n",
    "        filename = os.path.join(mainDir, filename)\n",
    "        self.size, self.ps = np.loadtxt(filename, comments=\"#\", unpack=True)\n",
    "        s_len_ori = len(self.size)\n",
    "        self._filename = filename\n",
    "        if is_avoid_zeros:\n",
    "            self.size, self.ps = self.avoid_zeros()\n",
    "            print(\"%i lines deleted\" % (s_len_ori - len(self.size)))\n",
    "    \n",
    "    def avoid_zeros(self):\n",
    "        is_not_zero = self.ps != 0\n",
    "        s = self.size[is_not_zero]\n",
    "        ps = self.ps[is_not_zero]\n",
    "        return s, ps"
   ]
  },
  {
   "cell_type": "code",
   "execution_count": 9,
   "metadata": {
    "collapsed": false
   },
   "outputs": [
    {
     "data": {
      "image/png": "[encoded data removed]",
      "text/plain": [
       "<matplotlib.figure.Figure at 0x7ffa4b682c18>"
      ]
     },
     "metadata": {},
     "output_type": "display_data"
    }
   ],
   "source": [
    "s001 = Sdist(0.01, mainDir, is_avoid_zeros=False) # Is it better to pass a string or a float?\n",
    "plt.loglog(s001.size, s001.ps, 'o');"
   ]
  },
  {
   "cell_type": "code",
   "execution_count": 10,
   "metadata": {
    "collapsed": false
   },
   "outputs": [
    {
     "data": {
      "text/plain": [
       "'/home/gf/src/Python/Python-in-the-lab/Bk/F64ac_0.01_S.dat'"
      ]
     },
     "execution_count": 10,
     "metadata": {},
     "output_type": "execute_result"
    }
   ],
   "source": [
    "s001._filename"
   ]
  },
  {
   "cell_type": "code",
   "execution_count": 11,
   "metadata": {
    "collapsed": false
   },
   "outputs": [
    {
     "data": {
      "text/plain": [
       "dict_keys(['ps', 'size', '_filename'])"
      ]
     },
     "execution_count": 11,
     "metadata": {},
     "output_type": "execute_result"
    }
   ],
   "source": [
    "# s001.ps, s001.size: Nothing else?\n",
    "s001.__dict__.keys()"
   ]
  },
  {
   "cell_type": "markdown",
   "metadata": {},
   "source": [
    "### You seem to be able to do it for all the frequencies..."
   ]
  },
  {
   "cell_type": "code",
   "execution_count": 12,
   "metadata": {
    "collapsed": false
   },
   "outputs": [
    {
     "name": "stdout",
     "output_type": "stream",
     "text": [
      "14 lines deleted\n",
      "12 lines deleted\n",
      "14 lines deleted\n"
     ]
    },
    {
     "data": {
      "text/plain": [
       "{0.01: <__main__.Sdist at 0x7ffa13f86b70>,\n",
       " 0.02: <__main__.Sdist at 0x7ffa14004780>,\n",
       " 0.029999999999999999: <__main__.Sdist at 0x7ffa14004080>}"
      ]
     },
     "execution_count": 12,
     "metadata": {},
     "output_type": "execute_result"
    }
   ],
   "source": [
    "# Can we now do it for the 3 frequencies?\n",
    "freqs = np.arange(1,4) / 100\n",
    "# Can I make a dictionary?\n",
    "s_distributions = dict()\n",
    "for freq in freqs:\n",
    "    s_distributions[freq] = Sdist(freq, mainDir)\n",
    "\n",
    "s_distributions"
   ]
  },
  {
   "cell_type": "code",
   "execution_count": 21,
   "metadata": {
    "collapsed": false
   },
   "outputs": [
    {
     "data": {
      "text/plain": [
       "array([ 11991900.,  15108900.,    338738.,   2429310.,   5685190.,\n",
       "         2692080.,   3621790.,   5915990.,   6721880.,   1033120.])"
      ]
     },
     "execution_count": 21,
     "metadata": {},
     "output_type": "execute_result"
    }
   ],
   "source": [
    "s_distributions[0.03].ps[:10]"
   ]
  },
  {
   "cell_type": "code",
   "execution_count": 14,
   "metadata": {
    "collapsed": false
   },
   "outputs": [
    {
     "data": {
      "image/png": "[encoded data removed]",
      "text/plain": [
       "<matplotlib.figure.Figure at 0x7ffa141a5908>"
      ]
     },
     "metadata": {},
     "output_type": "display_data"
    }
   ],
   "source": [
    "# Let's plot it\n",
    "for freq in freqs:\n",
    "    sd = s_distributions[freq]\n",
    "    label = \"%.2f Hz\" % freq\n",
    "    plt.loglog(sd.size, sd.ps, 'o', label=label)\n",
    "plt.legend(numpoints=1); "
   ]
  },
  {
   "cell_type": "markdown",
   "metadata": {},
   "source": [
    "### Ok, ok, but this not so general enough!\n",
    "#### I do not remember the frequencies, and I am interested in the files ending with S, T, u, v. Can we do something more general? "
   ]
  },
  {
   "cell_type": "code",
   "execution_count": 22,
   "metadata": {
    "collapsed": false
   },
   "outputs": [],
   "source": [
    "-"
   ]
  },
  {
   "cell_type": "code",
   "execution_count": 16,
   "metadata": {
    "collapsed": false
   },
   "outputs": [
    {
     "name": "stdout",
     "output_type": "stream",
     "text": [
      "{'E', 'sp', 'uT', 'T', 'S', 'v', 'u0'}\n",
      "14 lines deleted\n",
      "{'E', 'sp', 'uT', 'T', 'S', 'v', 'u0'}\n",
      "14 lines deleted\n"
     ]
    }
   ],
   "source": [
    "d_T = Dist(\"T\", mainDir)\n",
    "d_S = Dist(\"S\", mainDir)\n",
    "# I see a problem, by the way... do we need to calculate the available types everytime?"
   ]
  },
  {
   "cell_type": "markdown",
   "metadata": {},
   "source": [
    "### It is better to stop for a second. This starts to be pretty complex. I cannot put everything here\n",
    "\n",
    "Let's make a separated script for the class. We will learn how to use it...\n",
    "\n",
    "[Work on distributions.py and distributions2.py]\n",
    "\n",
    "Done? See distributions.py and distributions2.py"
   ]
  },
  {
   "cell_type": "code",
   "execution_count": 3,
   "metadata": {
    "collapsed": true
   },
   "outputs": [],
   "source": [
    "import distributions as d1\n",
    "mainDir = \"/home/gf/src/Python/Python-in-the-lab/Bk\""
   ]
  },
  {
   "cell_type": "code",
   "execution_count": 4,
   "metadata": {
    "collapsed": false
   },
   "outputs": [
    {
     "name": "stdout",
     "output_type": "stream",
     "text": [
      "{'T', 'E', 'v', 'S'}\n",
      "['/home/gf/src/Python/Python-in-the-lab/Bk/F64ac_0.01_T.dat', '/home/gf/src/Python/Python-in-the-lab/Bk/F64ac_0.02_T.dat', '/home/gf/src/Python/Python-in-the-lab/Bk/F64ac_0.03_T.dat']\n",
      "23 lines deleted\n",
      "18 lines deleted\n",
      "21 lines deleted\n",
      "['/home/gf/src/Python/Python-in-the-lab/Bk/F64ac_0.01_E.dat', '/home/gf/src/Python/Python-in-the-lab/Bk/F64ac_0.02_E.dat', '/home/gf/src/Python/Python-in-the-lab/Bk/F64ac_0.03_E.dat']\n",
      "9 lines deleted\n",
      "8 lines deleted\n",
      "8 lines deleted\n",
      "['/home/gf/src/Python/Python-in-the-lab/Bk/F64ac_0.01_v.dat', '/home/gf/src/Python/Python-in-the-lab/Bk/F64ac_0.02_v.dat', '/home/gf/src/Python/Python-in-the-lab/Bk/F64ac_0.03_v.dat']\n",
      "2 lines deleted\n",
      "0 lines deleted\n",
      "0 lines deleted\n",
      "['/home/gf/src/Python/Python-in-the-lab/Bk/F64ac_0.01_S.dat', '/home/gf/src/Python/Python-in-the-lab/Bk/F64ac_0.02_S.dat', '/home/gf/src/Python/Python-in-the-lab/Bk/F64ac_0.03_S.dat']\n",
      "14 lines deleted\n",
      "12 lines deleted\n",
      "14 lines deleted\n"
     ]
    }
   ],
   "source": [
    "dc = d1.DistCollector(mainDir)"
   ]
  },
  {
   "cell_type": "code",
   "execution_count": 6,
   "metadata": {
    "collapsed": false
   },
   "outputs": [],
   "source": [
    "dc.plot('S')"
   ]
  },
  {
   "cell_type": "code",
   "execution_count": 8,
   "metadata": {
    "collapsed": false
   },
   "outputs": [
    {
     "name": "stdout",
     "output_type": "stream",
     "text": [
      "{'T', 'E', 'v', 'S'}\n",
      "['/home/gf/src/Python/Python-in-the-lab/Bk/F64ac_0.01_T.dat', '/home/gf/src/Python/Python-in-the-lab/Bk/F64ac_0.02_T.dat', '/home/gf/src/Python/Python-in-the-lab/Bk/F64ac_0.03_T.dat']\n",
      "23 lines deleted\n",
      "18 lines deleted\n",
      "21 lines deleted\n",
      "['/home/gf/src/Python/Python-in-the-lab/Bk/F64ac_0.01_E.dat', '/home/gf/src/Python/Python-in-the-lab/Bk/F64ac_0.02_E.dat', '/home/gf/src/Python/Python-in-the-lab/Bk/F64ac_0.03_E.dat']\n",
      "9 lines deleted\n",
      "8 lines deleted\n",
      "8 lines deleted\n",
      "['/home/gf/src/Python/Python-in-the-lab/Bk/F64ac_0.01_v.dat', '/home/gf/src/Python/Python-in-the-lab/Bk/F64ac_0.02_v.dat', '/home/gf/src/Python/Python-in-the-lab/Bk/F64ac_0.03_v.dat']\n",
      "2 lines deleted\n",
      "0 lines deleted\n",
      "0 lines deleted\n",
      "['/home/gf/src/Python/Python-in-the-lab/Bk/F64ac_0.01_S.dat', '/home/gf/src/Python/Python-in-the-lab/Bk/F64ac_0.02_S.dat', '/home/gf/src/Python/Python-in-the-lab/Bk/F64ac_0.03_S.dat']\n",
      "14 lines deleted\n",
      "12 lines deleted\n",
      "14 lines deleted\n"
     ]
    }
   ],
   "source": [
    "# Let suppose you have finished distributions2.py\n",
    "import distributions2 as d2\n",
    "\n",
    "dcoll = d2.DistCollector(mainDir)"
   ]
  },
  {
   "cell_type": "code",
   "execution_count": null,
   "metadata": {
    "collapsed": false
   },
   "outputs": [],
   "source": [
    "dcoll.plot(\"S\") # Isn't it beatifull???"
   ]
  },
  {
   "cell_type": "markdown",
   "metadata": {},
   "source": [
    "## Problem\n",
    "Check distributions2.py and add the info about the axis, considering this scheme:\n",
    "    * [distribution_type, x-axis, y-axis, title]\n",
    "    * S, size S, P(S), size distribution\n",
    "    * T, duration T, P(T), duration distribution\n",
    "    * E, energy E, P(E), energy distribution\n",
    "    * v, velocity v, P(v), velocity distribution\n",
    "\n",
    "so they appear in the plot as xlabel, ylabel and title"
   ]
  },
  {
   "cell_type": "markdown",
   "metadata": {
    "collapsed": false
   },
   "source": [
    "### Classes can redefine operations"
   ]
  },
  {
   "cell_type": "code",
   "execution_count": 19,
   "metadata": {
    "collapsed": false
   },
   "outputs": [],
   "source": [
    "class Rectangle:\n",
    "    \"\"\"\n",
    "    This class defines operations on Rectangles\n",
    "    \"\"\"\n",
    "    def __init__(self, base, height):\n",
    "        self.base = base\n",
    "        self.height = height\n",
    "        self.area = base * height\n",
    "        self.p = self._get_perim()\n",
    "        self._diagonal = (base*base + height * height)**0.5 \n",
    "    \n",
    "    def _get_perim(self, half=False):\n",
    "        \"\"\"\n",
    "        Get the perimeter of the Rectange\n",
    "        Parameters:\n",
    "        ----------\n",
    "        half: Bool.\n",
    "             If True, get the semiperimeter\n",
    "        \"\"\"\n",
    "        p = self.base + self.height\n",
    "        if half:\n",
    "            return p\n",
    "        else:\n",
    "            return 2 * p\n",
    "        \n",
    "    def print_perimeter(self):\n",
    "        return \"The perimeter is %f\" % self.p\n",
    "    \n",
    "    def __add__(self, other):\n",
    "        base = self.base + other.base\n",
    "        height = self.height + other.height\n",
    "        return Rectangle(base,height)\n",
    "    \n",
    "    def __repr__(self):\n",
    "        return \"Rectangle of {0} by {1}\".format(self.base, self.height)\n",
    "\n",
    "p0 = Rectangle(3,2)\n",
    "p1 = Rectangle(1,1)\n",
    "p2 = Rectangle(2,0.5)"
   ]
  },
  {
   "cell_type": "code",
   "execution_count": 20,
   "metadata": {
    "collapsed": false
   },
   "outputs": [
    {
     "ename": "SyntaxError",
     "evalue": "Missing parentheses in call to 'print' (<ipython-input-20-53d23a1eb001>, line 1)",
     "output_type": "error",
     "traceback": [
      "\u001b[0;36m  File \u001b[0;32m\"<ipython-input-20-53d23a1eb001>\"\u001b[0;36m, line \u001b[0;32m1\u001b[0m\n\u001b[0;31m    print p0.base, p0.height, p0.p, p0.area\u001b[0m\n\u001b[0m           ^\u001b[0m\n\u001b[0;31mSyntaxError\u001b[0m\u001b[0;31m:\u001b[0m Missing parentheses in call to 'print'\n"
     ]
    }
   ],
   "source": [
    "print p0.base, p0.height, p0.p, p0.area\n",
    "p0.print_perimeter()"
   ]
  },
  {
   "cell_type": "code",
   "execution_count": null,
   "metadata": {
    "collapsed": false
   },
   "outputs": [],
   "source": [
    "# Construct a larger Rectange\n",
    "p3 = p0 + p1\n",
    "print p3.base, p3.height, p3.p, p3.area"
   ]
  },
  {
   "cell_type": "code",
   "execution_count": null,
   "metadata": {
    "collapsed": false
   },
   "outputs": [],
   "source": [
    "p3"
   ]
  },
  {
   "cell_type": "code",
   "execution_count": null,
   "metadata": {
    "collapsed": false
   },
   "outputs": [],
   "source": []
  }
 ],
 "metadata": {
  "kernelspec": {
   "display_name": "Python 3",
   "language": "python",
   "name": "python3"
  },
  "language_info": {
   "codemirror_mode": {
    "name": "ipython",
    "version": 3
   },
   "file_extension": ".py",
   "mimetype": "text/x-python",
   "name": "python",
   "nbconvert_exporter": "python",
   "pygments_lexer": "ipython3",
   "version": "3.5.2"
  }
 },
 "nbformat": 4,
 "nbformat_minor": 0
}
