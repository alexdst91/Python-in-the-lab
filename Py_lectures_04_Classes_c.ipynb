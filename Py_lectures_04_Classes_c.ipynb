{
 "cells": [
  {
   "cell_type": "markdown",
   "metadata": {},
   "source": [
    "# Python-in-the-lab: introduction to the classes III"
   ]
  },
  {
   "cell_type": "code",
   "execution_count": 4,
   "metadata": {
    "collapsed": true
   },
   "outputs": [],
   "source": [
    "import os\n",
    "import numpy as np\n",
    "import matplotlib.pylab as plt\n",
    "%matplotlib inline"
   ]
  },
  {
   "cell_type": "code",
   "execution_count": 5,
   "metadata": {
    "collapsed": false
   },
   "outputs": [],
   "source": [
    "mainDir = \"/home/gf/src/Python/Python-in-the-lab/Bk\"\n",
    "filename = \"F64ac_0.01_S.dat\"\n",
    "filename = os.path.join(mainDir, filename)"
   ]
  },
  {
   "cell_type": "code",
   "execution_count": 6,
   "metadata": {
    "collapsed": true
   },
   "outputs": [],
   "source": [
    "class Dist:\n",
    "    \"\"\"\n",
    "    This class load the data given a filename\n",
    "    \"\"\"\n",
    "    def __init__(self, filename, is_avoid_zeros=True):\n",
    "        # It is better to make general x,y arrays\n",
    "        self.x, self.y = np.loadtxt(filename, comments=\"#\", unpack=True)\n",
    "        if is_avoid_zeros:\n",
    "            s_len = len(self.x)\n",
    "            self.x, self.y = self.avoid_zeros()\n",
    "            print(\"%i lines deleted\" % (s_len - len(self.x)))\n",
    "    \n",
    "    def avoid_zeros(self):\n",
    "        is_not_zero = self.y != 0\n",
    "        x = self.x[is_not_zero]\n",
    "        y = self.y[is_not_zero]\n",
    "        return x, y\n",
    "\n",
    "    def plot(self, loglog=True):\n",
    "        fig = plt.figure()\n",
    "        ax = fig.add_subplot(111)\n",
    "        if loglog:\n",
    "            ax.loglog(self.x, self.y, 'o')\n",
    "        else:\n",
    "            ax.plot(self.x, self.y, 'o')"
   ]
  },
  {
   "cell_type": "code",
   "execution_count": 7,
   "metadata": {
    "collapsed": false
   },
   "outputs": [],
   "source": [
    "class Sizes(Dist):\n",
    "    def plot(self):\n",
    "        fig = plt.figure()\n",
    "        ax = fig.add_subplot(111)\n",
    "        ax.loglog(self.x, self.y, '*')"
   ]
  },
  {
   "cell_type": "code",
   "execution_count": 8,
   "metadata": {
    "collapsed": false
   },
   "outputs": [
    {
     "name": "stdout",
     "output_type": "stream",
     "text": [
      "14 lines deleted\n"
     ]
    }
   ],
   "source": [
    "s0 = Sizes(filename)"
   ]
  },
  {
   "cell_type": "code",
   "execution_count": 9,
   "metadata": {
    "collapsed": false
   },
   "outputs": [
    {
     "data": {
      "image/png": "[encoded data removed]",
      "text/plain": [
       "<matplotlib.figure.Figure at 0x7f2ce85b8dd8>"
      ]
     },
     "metadata": {},
     "output_type": "display_data"
    }
   ],
   "source": [
    "s0.plot()"
   ]
  },
  {
   "cell_type": "code",
   "execution_count": 23,
   "metadata": {
    "collapsed": true
   },
   "outputs": [],
   "source": [
    "class Sizes(Dist):\n",
    "    def __init__(self, freq, mainDir, material=\"F64ac\"):\n",
    "        filename = \"%s_%s_S.dat\" % (material, freq)\n",
    "        filename = os.path.join(mainDir, filename)\n",
    "        print(filename)\n",
    "        #Dist.__init__(self, filename)\n",
    "        super().__init__(filename) # Works as the line above\n",
    "        \n",
    "    def plot(self):\n",
    "        fig = plt.figure()\n",
    "        ax = fig.add_subplot(111)\n",
    "        ax.loglog(self.x, self.y, '*')"
   ]
  },
  {
   "cell_type": "code",
   "execution_count": 24,
   "metadata": {
    "collapsed": false
   },
   "outputs": [
    {
     "name": "stdout",
     "output_type": "stream",
     "text": [
      "/home/gf/src/Python/Python-in-the-lab/Bk/F64ac_0.02_S.dat\n",
      "12 lines deleted\n"
     ]
    }
   ],
   "source": [
    "s002 = Sizes(\"0.02\", mainDir)"
   ]
  },
  {
   "cell_type": "code",
   "execution_count": 25,
   "metadata": {
    "collapsed": false
   },
   "outputs": [
    {
     "data": {
      "image/png": "[encoded data removed]",
      "text/plain": [
       "<matplotlib.figure.Figure at 0x7f2cb8d9c438>"
      ]
     },
     "metadata": {},
     "output_type": "display_data"
    }
   ],
   "source": [
    "s002.plot()"
   ]
  },
  {
   "cell_type": "code",
   "execution_count": 13,
   "metadata": {
    "collapsed": true
   },
   "outputs": [],
   "source": [
    "import pandas"
   ]
  },
  {
   "cell_type": "code",
   "execution_count": 14,
   "metadata": {
    "collapsed": true
   },
   "outputs": [],
   "source": [
    "import skimage"
   ]
  },
  {
   "cell_type": "code",
   "execution_count": 16,
   "metadata": {
    "collapsed": false
   },
   "outputs": [],
   "source": [
    "if not os.path.exists(mainDir):\n",
    "    print(\"Problems!\")"
   ]
  },
  {
   "cell_type": "code",
   "execution_count": null,
   "metadata": {
    "collapsed": true
   },
   "outputs": [],
   "source": []
  }
 ],
 "metadata": {
  "kernelspec": {
   "display_name": "Python 3",
   "language": "python",
   "name": "python3"
  },
  "language_info": {
   "codemirror_mode": {
    "name": "ipython",
    "version": 3
   },
   "file_extension": ".py",
   "mimetype": "text/x-python",
   "name": "python",
   "nbconvert_exporter": "python",
   "pygments_lexer": "ipython3",
   "version": "3.5.2"
  }
 },
 "nbformat": 4,
 "nbformat_minor": 0
}
