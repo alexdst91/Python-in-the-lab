{
 "cells": [
  {
   "cell_type": "markdown",
   "metadata": {},
   "source": [
    "# Python-in-the-lab: introduction to the classes I"
   ]
  },
  {
   "cell_type": "code",
   "execution_count": 1,
   "metadata": {},
   "outputs": [],
   "source": [
    "import os\n",
    "import numpy as np\n",
    "import scipy.integrate as integrate\n",
    "import matplotlib.pylab as plt\n",
    "%matplotlib inline"
   ]
  },
  {
   "cell_type": "markdown",
   "metadata": {},
   "source": [
    "We will reuse files already analysed, so we can concentrate on the logic!"
   ]
  },
  {
   "cell_type": "code",
   "execution_count": 2,
   "metadata": {},
   "outputs": [
    {
     "data": {
      "image/png": "[encoded data removed]",
      "text/plain": [
       "<Figure size 432x288 with 1 Axes>"
      ]
     },
     "metadata": {
      "needs_background": "light"
     },
     "output_type": "display_data"
    }
   ],
   "source": [
    "mainDir = \"/home/gf/src/Python/Python-in-the-lab/Bk\"\n",
    "filename = \"F64ac_0.01_S.dat\"\n",
    "filename = os.path.join(mainDir, filename)\n",
    "s, ps = np.loadtxt(filename, comments=\"#\", unpack=True)\n",
    "plt.loglog(s, ps, 'o'); # Nothing new..."
   ]
  },
  {
   "cell_type": "markdown",
   "metadata": {},
   "source": [
    "### We would like to work a little with the data\n",
    "\n",
    "The idea is the following:\n",
    "\n",
    "Can we construction something general and sufficiently abstract from which we can extract the values more easily?"
   ]
  },
  {
   "cell_type": "code",
   "execution_count": 3,
   "metadata": {},
   "outputs": [],
   "source": [
    "# Your first class\n",
    "class Sdist: # Note the capital letter\n",
    "    def __init__(self, filename): # Self???\n",
    "        self.size, self.ps = np.loadtxt(filename, comments=\"#\", unpack=True)\n",
    "\n",
    "# Done?\n",
    "THIS_IS_A_CONSTANT = 131231.23131   \n",
    "filename = \"F64ac_0.01_S.dat\"\n",
    "filename = os.path.join(mainDir, filename)\n",
    "s001 = Sdist(filename)\n",
    "# What is \"self\" ???"
   ]
  },
  {
   "cell_type": "markdown",
   "metadata": {},
   "source": [
    "*self* is not a reserved word, but it is universality used a (self)-reference to the class.\n",
    "It simply indentifies the class itself.\n",
    "\n",
    "s001 is a call to the class, named a *instance* of the class"
   ]
  },
  {
   "cell_type": "code",
   "execution_count": 4,
   "metadata": {},
   "outputs": [
    {
     "data": {
      "text/plain": [
       "array([7.09426e+05, 4.26445e+05, 2.41955e+04, 1.50198e+07, 7.44998e+06,\n",
       "       2.29251e+07, 1.12218e+07, 1.05320e+07, 6.66718e+06, 1.16563e+07,\n",
       "       1.09002e+07, 6.96781e+06, 1.24547e+07, 1.95546e+07, 7.87439e+06,\n",
       "       6.28456e+06, 1.00967e+07, 6.11875e+06, 7.34575e+06, 5.14724e+06,\n",
       "       4.00538e+06, 2.85764e+06, 2.30620e+06, 1.50140e+06, 1.02132e+06,\n",
       "       6.97577e+05, 4.54409e+05, 3.07353e+05, 2.12505e+05, 1.47726e+05,\n",
       "       9.67887e+04, 6.87491e+04, 4.69031e+04, 3.30666e+04, 2.30293e+04,\n",
       "       1.62495e+04, 1.15204e+04, 7.98031e+03, 5.68260e+03, 4.23867e+03,\n",
       "       2.97384e+03, 2.13527e+03, 1.55214e+03, 1.17525e+03, 8.23620e+02,\n",
       "       6.61500e+02, 4.52724e+02, 3.50047e+02, 2.60123e+02, 1.88037e+02,\n",
       "       1.34791e+02, 9.54933e+01, 7.68208e+01, 5.41981e+01, 4.18298e+01,\n",
       "       2.87398e+01, 2.15285e+01, 1.39254e+01, 8.90375e+00, 5.06903e+00,\n",
       "       2.97192e+00, 1.50779e+00, 5.68595e-01, 2.21021e-01, 7.63318e-03,\n",
       "       6.06325e-03])"
      ]
     },
     "execution_count": 4,
     "metadata": {},
     "output_type": "execute_result"
    }
   ],
   "source": [
    "s001.ps[s001.ps != 0]"
   ]
  },
  {
   "cell_type": "markdown",
   "metadata": {},
   "source": [
    "s001.<tab> ? \n",
    "s001.__???"
   ]
  },
  {
   "cell_type": "code",
   "execution_count": 5,
   "metadata": {},
   "outputs": [],
   "source": [
    "# Let's redifine the class\n",
    "# as I want to get rid of the zeros of ps\n",
    "class Sdist:\n",
    "    def __init__(self, filename):\n",
    "        self.size, self.ps = np.loadtxt(filename, comments=\"#\", unpack=True)\n",
    "        s_len_ori = len(self.size)\n",
    "        self.size, self.ps = self.avoid_zeros()\n",
    "        print(\"%i lines deleted\" % (s_len_ori - len(self.size)))\n",
    "    \n",
    "    def avoid_zeros(self):\n",
    "        is_not_zero = self.ps != 0\n",
    "        s = self.size[is_not_zero]\n",
    "        ps = self.ps[is_not_zero]\n",
    "        return s, ps"
   ]
  },
  {
   "cell_type": "code",
   "execution_count": 6,
   "metadata": {},
   "outputs": [
    {
     "name": "stdout",
     "output_type": "stream",
     "text": [
      "14 lines deleted\n"
     ]
    },
    {
     "data": {
      "image/png": "[encoded data removed]",
      "text/plain": [
       "<Figure size 432x288 with 1 Axes>"
      ]
     },
     "metadata": {
      "needs_background": "light"
     },
     "output_type": "display_data"
    }
   ],
   "source": [
    "s001 = Sdist(filename)\n",
    "plt.loglog(s001.size, s001.ps, 'o');"
   ]
  },
  {
   "cell_type": "code",
   "execution_count": 7,
   "metadata": {},
   "outputs": [
    {
     "data": {
      "text/plain": [
       "array([2.15285e+01, 1.39254e+01, 8.90375e+00, 5.06903e+00, 2.97192e+00,\n",
       "       1.50779e+00, 5.68595e-01, 2.21021e-01, 7.63318e-03, 6.06325e-03])"
      ]
     },
     "execution_count": 7,
     "metadata": {},
     "output_type": "execute_result"
    }
   ],
   "source": [
    "s001.ps[-10:] # good!"
   ]
  },
  {
   "cell_type": "markdown",
   "metadata": {},
   "source": [
    "##  Improvements\n",
    "* Why don't we give just the frequency, so it takes care of all the rest?\n",
    "* Can we leave the possibility to avoid the zeros as a choice?"
   ]
  },
  {
   "cell_type": "code",
   "execution_count": 8,
   "metadata": {},
   "outputs": [],
   "source": [
    "# Let's redifine the class again\n",
    "class Sdist:\n",
    "    def __init__(self, freq, mainDir, is_avoid_zeros=True):\n",
    "        filename = \"F64ac_%s_S.dat\" % freq\n",
    "        filename = os.path.join(mainDir, filename)\n",
    "        self.size, self.ps = np.loadtxt(filename, comments=\"#\", unpack=True)\n",
    "        s_len_ori = len(self.size)\n",
    "        self._filename = filename\n",
    "        if is_avoid_zeros:\n",
    "            self.size, self.ps = self.avoid_zeros()\n",
    "            print(\"%i lines deleted\" % (s_len_ori - len(self.size)))\n",
    "    \n",
    "    def avoid_zeros(self):\n",
    "        is_not_zero = self.ps != 0\n",
    "        s = self.size[is_not_zero]\n",
    "        ps = self.ps[is_not_zero]\n",
    "        return s, ps"
   ]
  },
  {
   "cell_type": "code",
   "execution_count": 9,
   "metadata": {},
   "outputs": [
    {
     "data": {
      "text/plain": [
       "[<matplotlib.lines.Line2D at 0x7f8ce69486d8>]"
      ]
     },
     "execution_count": 9,
     "metadata": {},
     "output_type": "execute_result"
    },
    {
     "data": {
      "image/png": "[encoded data removed]",
      "text/plain": [
       "<Figure size 432x288 with 1 Axes>"
      ]
     },
     "metadata": {
      "needs_background": "light"
     },
     "output_type": "display_data"
    }
   ],
   "source": [
    "# Is it better to pass a string or a float?\n",
    "s001 = Sdist(0.01, mainDir, is_avoid_zeros=False)\n",
    "s002 = Sdist(0.02, mainDir, is_avoid_zeros=False)\n",
    "s003 = Sdist(0.03, mainDir, is_avoid_zeros=False)\n",
    "plt.loglog(s001.size, s001.ps, 'o')\n",
    "plt.loglog(s002.size, s002.ps, 'o')\n",
    "plt.loglog(s003.size, s003.ps, 'o')"
   ]
  },
  {
   "cell_type": "code",
   "execution_count": 10,
   "metadata": {},
   "outputs": [
    {
     "data": {
      "text/plain": [
       "'/home/gf/src/Python/Python-in-the-lab/Bk/F64ac_0.01_S.dat'"
      ]
     },
     "execution_count": 10,
     "metadata": {},
     "output_type": "execute_result"
    }
   ],
   "source": [
    "s001._filename"
   ]
  },
  {
   "cell_type": "code",
   "execution_count": 11,
   "metadata": {},
   "outputs": [
    {
     "data": {
      "text/plain": [
       "dict_keys(['size', 'ps', '_filename'])"
      ]
     },
     "execution_count": 11,
     "metadata": {},
     "output_type": "execute_result"
    }
   ],
   "source": [
    "# s001.ps, s001.size: Nothing else?\n",
    "s001.__dict__.keys()"
   ]
  },
  {
   "cell_type": "markdown",
   "metadata": {},
   "source": [
    "### You seem to be able to do it for all the frequencies..."
   ]
  },
  {
   "cell_type": "code",
   "execution_count": 12,
   "metadata": {},
   "outputs": [
    {
     "name": "stdout",
     "output_type": "stream",
     "text": [
      "14 lines deleted\n",
      "12 lines deleted\n",
      "14 lines deleted\n"
     ]
    },
    {
     "data": {
      "text/plain": [
       "{0.01: <__main__.Sdist at 0x7f8ce66be630>,\n",
       " 0.02: <__main__.Sdist at 0x7f8ce6931ef0>,\n",
       " 0.03: <__main__.Sdist at 0x7f8ce66bea58>}"
      ]
     },
     "execution_count": 12,
     "metadata": {},
     "output_type": "execute_result"
    }
   ],
   "source": [
    "# Can we now do it for the 3 frequencies?\n",
    "freqs = np.arange(1,4) / 100\n",
    "# Can I make a dictionary?\n",
    "s_distributions = dict()\n",
    "for freq in freqs:\n",
    "    s_distributions[freq] = Sdist(freq, mainDir)\n",
    "\n",
    "s_distributions"
   ]
  },
  {
   "cell_type": "code",
   "execution_count": 13,
   "metadata": {},
   "outputs": [
    {
     "data": {
      "text/plain": [
       "array([11991900., 15108900.,   338738.,  2429310.,  5685190.,  2692080.,\n",
       "        3621790.,  5915990.,  6721880.,  1033120.])"
      ]
     },
     "execution_count": 13,
     "metadata": {},
     "output_type": "execute_result"
    }
   ],
   "source": [
    "s_distributions[0.03].ps[:10]"
   ]
  },
  {
   "cell_type": "code",
   "execution_count": 14,
   "metadata": {},
   "outputs": [
    {
     "data": {
      "image/png": "[encoded data removed]",
      "text/plain": [
       "<Figure size 432x288 with 1 Axes>"
      ]
     },
     "metadata": {
      "needs_background": "light"
     },
     "output_type": "display_data"
    }
   ],
   "source": [
    "# Let's plot it\n",
    "for freq in freqs:\n",
    "    sd = s_distributions[freq]\n",
    "    label = \"%.2f Hz\" % freq\n",
    "    plt.loglog(sd.size, sd.ps, 'o', label=label)\n",
    "plt.legend(numpoints=1); "
   ]
  },
  {
   "cell_type": "markdown",
   "metadata": {},
   "source": [
    "### Ok, ok, but this not so general enough!\n",
    "#### I do not remember the frequencies, and I am interested in the files ending with S, T, u, v. Can we do something more general? "
   ]
  },
  {
   "cell_type": "code",
   "execution_count": 15,
   "metadata": {},
   "outputs": [],
   "source": [
    "# It would be nice to have something like...\n",
    "# d_T = Dist(\"Duration\", mainDir)\n",
    "# d_S = Dist(\"Size\", mainDir)\n",
    "# d_E = Dist(\"Energy\", mainDir)"
   ]
  },
  {
   "cell_type": "markdown",
   "metadata": {},
   "source": [
    "### It is better to stop for a second. This starts to be pretty complex. I cannot put everything here\n",
    "\n",
    "Let's make a separated script for the class. We will learn how to use it...\n",
    "\n",
    "[Work on cplot_distributions.py]\n",
    "\n",
    "Done? "
   ]
  },
  {
   "cell_type": "code",
   "execution_count": 16,
   "metadata": {},
   "outputs": [],
   "source": [
    "import cplot_distributions as d1\n",
    "mainDir = \"/home/gf/src/Python/Python-in-the-lab/Bk\""
   ]
  },
  {
   "cell_type": "code",
   "execution_count": 18,
   "metadata": {},
   "outputs": [],
   "source": [
    "d_size = d1.Dist('Size', mainDir)"
   ]
  },
  {
   "cell_type": "code",
   "execution_count": 19,
   "metadata": {},
   "outputs": [
    {
     "data": {
      "image/png": "[encoded data removed]",
      "text/plain": [
       "<Figure size 432x288 with 1 Axes>"
      ]
     },
     "metadata": {
      "needs_background": "light"
     },
     "output_type": "display_data"
    }
   ],
   "source": [
    "d_size.plot()"
   ]
  },
  {
   "cell_type": "markdown",
   "metadata": {},
   "source": [
    "### Classes can redefine operations"
   ]
  },
  {
   "cell_type": "code",
   "execution_count": null,
   "metadata": {},
   "outputs": [],
   "source": [
    "class Rectangle:\n",
    "    \"\"\"\n",
    "    This class defines operations on Rectangles\n",
    "    \"\"\"\n",
    "    def __init__(self, base, height):\n",
    "        self.base = base\n",
    "        self.height = height\n",
    "        self.area = base * height\n",
    "        self.p = self._get_perim()\n",
    "        self._diagonal = (base*base + height * height)**0.5 \n",
    "    \n",
    "    def _get_perim(self, half=False):\n",
    "        \"\"\"\n",
    "        Get the perimeter of the Rectange\n",
    "        Parameters:\n",
    "        ----------\n",
    "        half: Bool.\n",
    "             If True, get the semiperimeter\n",
    "        \"\"\"\n",
    "        p = self.base + self.height\n",
    "        if half:\n",
    "            return p\n",
    "        else:\n",
    "            return 2 * p\n",
    "        \n",
    "    def print_perimeter(self):\n",
    "        return \"The perimeter is %f\" % self.p\n",
    "    \n",
    "    def __add__(self, other):\n",
    "        base = self.base + other.base\n",
    "        height = self.height + other.height\n",
    "        return Rectangle(base,height)\n",
    "    \n",
    "    def __repr__(self):\n",
    "        return \"Rectangle of {0} by {1}\".format(self.base, self.height)\n",
    "\n",
    "p0 = Rectangle(3,2)\n",
    "p1 = Rectangle(1,1)\n",
    "p2 = Rectangle(2,0.5)"
   ]
  },
  {
   "cell_type": "code",
   "execution_count": null,
   "metadata": {},
   "outputs": [],
   "source": [
    "print p0.base, p0.height, p0.p, p0.area\n",
    "p0.print_perimeter()"
   ]
  },
  {
   "cell_type": "code",
   "execution_count": null,
   "metadata": {},
   "outputs": [],
   "source": [
    "# Construct a larger Rectange\n",
    "p3 = p0 + p1\n",
    "print p3.base, p3.height, p3.p, p3.area"
   ]
  },
  {
   "cell_type": "code",
   "execution_count": null,
   "metadata": {},
   "outputs": [],
   "source": [
    "p3"
   ]
  }
 ],
 "metadata": {
  "kernelspec": {
   "display_name": "Python 3",
   "language": "python",
   "name": "python3"
  },
  "language_info": {
   "codemirror_mode": {
    "name": "ipython",
    "version": 3
   },
   "file_extension": ".py",
   "mimetype": "text/x-python",
   "name": "python",
   "nbconvert_exporter": "python",
   "pygments_lexer": "ipython3",
   "version": "3.7.1"
  }
 },
 "nbformat": 4,
 "nbformat_minor": 1
}
