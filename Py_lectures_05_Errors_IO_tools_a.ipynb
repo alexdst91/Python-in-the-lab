{
 "cells": [
  {
   "cell_type": "code",
   "execution_count": null,
   "metadata": {
    "collapsed": true
   },
   "outputs": [],
   "source": [
    "# Python-in-the-lab: errors, input/output and best tools I"
   ]
  },
  {
   "cell_type": "code",
   "execution_count": 2,
   "metadata": {
    "collapsed": true
   },
   "outputs": [],
   "source": [
    "import os\n",
    "import numpy as np\n",
    "import matplotlib.pylab as plt\n",
    "%matplotlib inline"
   ]
  },
  {
   "cell_type": "code",
   "execution_count": 3,
   "metadata": {
    "collapsed": true
   },
   "outputs": [],
   "source": [
    "# The lines below work, but are error prone\n",
    "filename = \"/home/gf/src/Python/Python-in-the-lab/Bk/F64ac_0.03_time_200.dat\"\n",
    "data = -np.loadtxt(filename)\n",
    "with open(filename) as f:\n",
    "    header = f.readline()"
   ]
  },
  {
   "cell_type": "code",
   "execution_count": 4,
   "metadata": {
    "collapsed": false
   },
   "outputs": [
    {
     "ename": "FileNotFoundError",
     "evalue": "[Errno 2] No such file or directory: '/home/gf/src/Python/Python-in-the-lap/Bk/F64ac_0.03_time_200.dat'",
     "output_type": "error",
     "traceback": [
      "\u001b[0;31m---------------------------------------------------------------------------\u001b[0m",
      "\u001b[0;31mFileNotFoundError\u001b[0m                         Traceback (most recent call last)",
      "\u001b[0;32m<ipython-input-4-6d91b78ea26e>\u001b[0m in \u001b[0;36m<module>\u001b[0;34m()\u001b[0m\n\u001b[1;32m      1\u001b[0m \u001b[0;31m# The lines below work, but are error prone\u001b[0m\u001b[0;34m\u001b[0m\u001b[0;34m\u001b[0m\u001b[0m\n\u001b[1;32m      2\u001b[0m \u001b[0mfilename\u001b[0m \u001b[0;34m=\u001b[0m \u001b[0;34m\"/home/gf/src/Python/Python-in-the-lap/Bk/F64ac_0.03_time_200.dat\"\u001b[0m\u001b[0;34m\u001b[0m\u001b[0m\n\u001b[0;32m----> 3\u001b[0;31m \u001b[0mdata\u001b[0m \u001b[0;34m=\u001b[0m \u001b[0;34m-\u001b[0m\u001b[0mnp\u001b[0m\u001b[0;34m.\u001b[0m\u001b[0mloadtxt\u001b[0m\u001b[0;34m(\u001b[0m\u001b[0mfilename\u001b[0m\u001b[0;34m)\u001b[0m\u001b[0;34m\u001b[0m\u001b[0m\n\u001b[0m",
      "\u001b[0;32m/usr/local/lib/python3.5/dist-packages/numpy/lib/npyio.py\u001b[0m in \u001b[0;36mloadtxt\u001b[0;34m(fname, dtype, comments, delimiter, converters, skiprows, usecols, unpack, ndmin)\u001b[0m\n\u001b[1;32m    858\u001b[0m                 \u001b[0mfh\u001b[0m \u001b[0;34m=\u001b[0m \u001b[0miter\u001b[0m\u001b[0;34m(\u001b[0m\u001b[0mopen\u001b[0m\u001b[0;34m(\u001b[0m\u001b[0mfname\u001b[0m\u001b[0;34m,\u001b[0m \u001b[0;34m'U'\u001b[0m\u001b[0;34m)\u001b[0m\u001b[0;34m)\u001b[0m\u001b[0;34m\u001b[0m\u001b[0m\n\u001b[1;32m    859\u001b[0m             \u001b[0;32melse\u001b[0m\u001b[0;34m:\u001b[0m\u001b[0;34m\u001b[0m\u001b[0m\n\u001b[0;32m--> 860\u001b[0;31m                 \u001b[0mfh\u001b[0m \u001b[0;34m=\u001b[0m \u001b[0miter\u001b[0m\u001b[0;34m(\u001b[0m\u001b[0mopen\u001b[0m\u001b[0;34m(\u001b[0m\u001b[0mfname\u001b[0m\u001b[0;34m)\u001b[0m\u001b[0;34m)\u001b[0m\u001b[0;34m\u001b[0m\u001b[0m\n\u001b[0m\u001b[1;32m    861\u001b[0m         \u001b[0;32melse\u001b[0m\u001b[0;34m:\u001b[0m\u001b[0;34m\u001b[0m\u001b[0m\n\u001b[1;32m    862\u001b[0m             \u001b[0mfh\u001b[0m \u001b[0;34m=\u001b[0m \u001b[0miter\u001b[0m\u001b[0;34m(\u001b[0m\u001b[0mfname\u001b[0m\u001b[0;34m)\u001b[0m\u001b[0;34m\u001b[0m\u001b[0m\n",
      "\u001b[0;31mFileNotFoundError\u001b[0m: [Errno 2] No such file or directory: '/home/gf/src/Python/Python-in-the-lap/Bk/F64ac_0.03_time_200.dat'"
     ]
    }
   ],
   "source": [
    "# The lines below work, but are error prone\n",
    "filename = \"/home/gf/src/Python/Python-in-the-lap/Bk/F64ac_0.03_time_200.dat\"\n",
    "data = -np.loadtxt(filename)"
   ]
  },
  {
   "cell_type": "markdown",
   "metadata": {},
   "source": [
    "It is not always simple to find the error. And this error is very general and does not tell if it is file or the directory wrong (no file OR directory).\n",
    "\n",
    "We can at least try to catch the error and elaborate a little bit the problem to better focus on that."
   ]
  },
  {
   "cell_type": "code",
   "execution_count": 9,
   "metadata": {
    "collapsed": false
   },
   "outputs": [
    {
     "name": "stdout",
     "output_type": "stream",
     "text": [
      "/home/gf/src/Python/Python-in-the-lap/Bk/F64ac_0.03_time_200.dat not found\n"
     ]
    }
   ],
   "source": [
    "# Catch the error with try: except:\n",
    "import sys\n",
    "if sys.version_info[0] == 3:\n",
    "    try:\n",
    "        filename = \"/home/gf/src/Python/Python-in-the-lap/Bk/F64ac_0.03_time_200.dat\"\n",
    "        data = -np.loadtxt(filename)\n",
    "    except FileNotFoundError:\n",
    "        print(\"%s not found\" % filename)\n",
    "elif sys.version_info[0] == 2:\n",
    "    try:\n",
    "        filename = \"/home/gf/src/Python/Python-in-the-lap/Bk/F64ac_0.03_time_200.dat\"\n",
    "        data = -np.loadtxt(filename)\n",
    "    except IOError:\n",
    "        print(\"%s not found\" % filename)\n",
    "# What is the difference with the above code?"
   ]
  },
  {
   "cell_type": "code",
   "execution_count": 23,
   "metadata": {
    "collapsed": false
   },
   "outputs": [
    {
     "name": "stdout",
     "output_type": "stream",
     "text": [
      "/home/gf/src/Python/Python-in-the-lap/Bk/F64ac_0.03_time_200.dat not found\n",
      "Error in the directory /home/gf/src/Python/Python-in-the-lap/Bk\n"
     ]
    }
   ],
   "source": [
    "# Can we be more specific?\n",
    "try:\n",
    "    filename = \"/home/gf/src/Python/Python-in-the-lap/Bk/F64ac_0.03_time_200.dat\"\n",
    "    data = -np.loadtxt(filename)\n",
    "except FileNotFoundError:\n",
    "    print(\"%s not found\" %filename)\n",
    "    rootDir, fname = os.path.split(filename)\n",
    "    if not os.path.isdir(rootDir):\n",
    "        print(\"Error in the directory %s\" % rootDir)\n",
    "    elif not os.path.isfile(filename):\n",
    "        print(\"Error in the file %s\" % fname)\n"
   ]
  },
  {
   "cell_type": "markdown",
   "metadata": {},
   "source": [
    "### Exercise: can you write a small script which catches where exactly we made the error?"
   ]
  },
  {
   "cell_type": "code",
   "execution_count": 24,
   "metadata": {
    "collapsed": false
   },
   "outputs": [
    {
     "name": "stdout",
     "output_type": "stream",
     "text": [
      "/home/gf/src/Python/Python-in-the-lap/Bk/F64ac_0.03_time_200.dat not found\n",
      "Error in the directory /home/gf/src/Python/Python-in-the-lap/Bk\n",
      "/home\n",
      "/home/gf\n",
      "/home/gf/src\n",
      "/home/gf/src/Python\n",
      "/home/gf/src/Python/Python-in-the-lap\n",
      "Check folder 'Python-in-the-lap'\n"
     ]
    }
   ],
   "source": [
    "try:\n",
    "    filename = \"/home/gf/src/Python/Python-in-the-lap/Bk/F64ac_0.03_time_200.dat\"\n",
    "    data = -np.loadtxt(filename)\n",
    "except FileNotFoundError:\n",
    "    print(\"%s not found\" %filename)\n",
    "    rootDir, fname = os.path.split(filename)\n",
    "    if not os.path.isdir(rootDir):\n",
    "        print(\"Error in the directory %s\" % rootDir)\n",
    "        folders = rootDir.split(\"/\")\n",
    "        for i in range(1,len(folders)):\n",
    "            folder = os.path.join(\"/\", *folders[:i+1])\n",
    "            print(folder)\n",
    "            if not os.path.isdir(folder):\n",
    "                print(\"Check folder '%s'\" % folders[i])\n",
    "                break\n",
    "    elif not os.path.isfile(filename):\n",
    "        print(\"Error in the file %s\" % fname)"
   ]
  },
  {
   "cell_type": "code",
   "execution_count": 1,
   "metadata": {
    "collapsed": true
   },
   "outputs": [],
   "source": [
    "my_text = \"\"\"\n",
    "To be, or not to be, that is the question:\n",
    "Whether 'tis nobler in the mind to suffer\n",
    "The slings and arrows of outrageous fortune,\n",
    "\"\"\"\n",
    "textfile = \"/home/gf/src/Python/Python-in-the-lab/Bk/hamlet.txt\"\n",
    "f = open(textfile, 'w')\n",
    "try:\n",
    "    f.writelines(my_text)\n",
    "finally:\n",
    "    f.close()"
   ]
  },
  {
   "cell_type": "code",
   "execution_count": 2,
   "metadata": {
    "collapsed": false
   },
   "outputs": [],
   "source": [
    "# Clearly, the pytonic way to do it is:\n",
    "with open(textfile, 'w') as f:\n",
    "    f.writelines(my_text)"
   ]
  },
  {
   "cell_type": "code",
   "execution_count": 3,
   "metadata": {
    "collapsed": false
   },
   "outputs": [
    {
     "ename": "MyError",
     "evalue": "",
     "output_type": "error",
     "traceback": [
      "\u001b[1;31m---------------------------------------------------------------------------\u001b[0m",
      "\u001b[1;31mMyError\u001b[0m                                   Traceback (most recent call last)",
      "\u001b[1;32m<ipython-input-3-b5330b171e05>\u001b[0m in \u001b[0;36m<module>\u001b[1;34m()\u001b[0m\n\u001b[0;32m      9\u001b[0m \u001b[1;32mtry\u001b[0m\u001b[1;33m:\u001b[0m\u001b[1;33m\u001b[0m\u001b[0m\n\u001b[0;32m     10\u001b[0m     \u001b[0mf\u001b[0m\u001b[1;33m.\u001b[0m\u001b[0mwritelines\u001b[0m\u001b[1;33m(\u001b[0m\u001b[0mmy_text\u001b[0m\u001b[1;33m)\u001b[0m\u001b[1;33m\u001b[0m\u001b[0m\n\u001b[1;32m---> 11\u001b[1;33m     \u001b[0mmake_error\u001b[0m\u001b[1;33m(\u001b[0m\u001b[0mf\u001b[0m\u001b[1;33m)\u001b[0m\u001b[1;33m\u001b[0m\u001b[0m\n\u001b[0m\u001b[0;32m     12\u001b[0m \u001b[1;32mfinally\u001b[0m\u001b[1;33m:\u001b[0m\u001b[1;33m\u001b[0m\u001b[0m\n\u001b[0;32m     13\u001b[0m     \u001b[0mf\u001b[0m\u001b[1;33m.\u001b[0m\u001b[0mclose\u001b[0m\u001b[1;33m(\u001b[0m\u001b[1;33m)\u001b[0m\u001b[1;33m\u001b[0m\u001b[0m\n",
      "\u001b[1;32m<ipython-input-3-b5330b171e05>\u001b[0m in \u001b[0;36mmake_error\u001b[1;34m(file)\u001b[0m\n\u001b[0;32m      3\u001b[0m \u001b[1;33m\u001b[0m\u001b[0m\n\u001b[0;32m      4\u001b[0m \u001b[1;32mdef\u001b[0m \u001b[0mmake_error\u001b[0m\u001b[1;33m(\u001b[0m\u001b[0mfile\u001b[0m\u001b[1;33m)\u001b[0m\u001b[1;33m:\u001b[0m\u001b[1;33m\u001b[0m\u001b[0m\n\u001b[1;32m----> 5\u001b[1;33m     \u001b[1;32mraise\u001b[0m \u001b[0mMyError\u001b[0m\u001b[1;33m(\u001b[0m\u001b[1;33m)\u001b[0m\u001b[1;33m\u001b[0m\u001b[0m\n\u001b[0m\u001b[0;32m      6\u001b[0m \u001b[1;33m\u001b[0m\u001b[0m\n\u001b[0;32m      7\u001b[0m \u001b[0mtextfile\u001b[0m \u001b[1;33m=\u001b[0m \u001b[1;34m\"/home/gf/src/Python/Python-in-the-lab/Bk/hamlet.txt\"\u001b[0m\u001b[1;33m\u001b[0m\u001b[0m\n",
      "\u001b[1;31mMyError\u001b[0m: "
     ]
    }
   ],
   "source": [
    "# Ok, but let's make an error on purpose\n",
    "class MyError(Exception): pass\n",
    "\n",
    "def make_error(file):\n",
    "    raise MyError()\n",
    "    \n",
    "textfile = \"/home/gf/src/Python/Python-in-the-lab/Bk/hamlet.txt\"\n",
    "f = open(textfile, 'w')\n",
    "try:\n",
    "    f.writelines(my_text)\n",
    "    make_error(f)\n",
    "finally:\n",
    "    f.close()"
   ]
  },
  {
   "cell_type": "code",
   "execution_count": 4,
   "metadata": {
    "collapsed": false
   },
   "outputs": [
    {
     "name": "stdout",
     "output_type": "stream",
     "text": [
      "<closed file '/home/gf/src/Python/Python-in-the-lab/Bk/hamlet.txt', mode 'w' at 0x7fd04b144390>\n"
     ]
    },
    {
     "data": {
      "text/plain": [
       "True"
      ]
     },
     "execution_count": 4,
     "metadata": {},
     "output_type": "execute_result"
    }
   ],
   "source": [
    "print(f)\n",
    "f.closed"
   ]
  },
  {
   "cell_type": "markdown",
   "metadata": {},
   "source": [
    "See https://docs.python.org/2.7/tutorial/errors.html"
   ]
  },
  {
   "cell_type": "code",
   "execution_count": 5,
   "metadata": {
    "collapsed": false
   },
   "outputs": [
    {
     "name": "stdout",
     "output_type": "stream",
     "text": [
      "Could not convert data to an integer.\n"
     ]
    }
   ],
   "source": [
    "import sys\n",
    "\n",
    "try:\n",
    "    #f = open('/home/gf/src/Python/Python-in-the-lab/Bk/myfile.txt')\n",
    "    f = open(\"/home/gf/src/Python/Python-in-the-lab/Bk/hamlet.txt\")\n",
    "    s = f.readline()\n",
    "    i = int(s.strip())\n",
    "except IOError as e:\n",
    "    print(\"I/O error({0}): {1}\".format(e.errno, e.strerror))\n",
    "except ValueError:\n",
    "    print(\"Could not convert data to an integer.\")\n",
    "except:\n",
    "    print(\"Unexpected error:\", sys.exc_info()[0])\n",
    "    raise"
   ]
  },
  {
   "cell_type": "code",
   "execution_count": 6,
   "metadata": {
    "collapsed": false
   },
   "outputs": [],
   "source": [
    "# Python 2.X add\n",
    "# from __future__ import division\n",
    "\n",
    "def divide(x, y):\n",
    "    try:\n",
    "        result = x / y\n",
    "    except ZeroDivisionError:\n",
    "        print(\"division by zero!\")\n",
    "    else:\n",
    "        print(\"result is\", result)\n",
    "    finally:\n",
    "        print(\"executing finally clause\")"
   ]
  },
  {
   "cell_type": "code",
   "execution_count": 7,
   "metadata": {
    "collapsed": false
   },
   "outputs": [
    {
     "name": "stdout",
     "output_type": "stream",
     "text": [
      "('result is', 1)\n",
      "executing finally clause\n"
     ]
    }
   ],
   "source": [
    "divide(3,2)"
   ]
  },
  {
   "cell_type": "code",
   "execution_count": 8,
   "metadata": {
    "collapsed": false
   },
   "outputs": [
    {
     "name": "stdout",
     "output_type": "stream",
     "text": [
      "division by zero!\n",
      "executing finally clause\n"
     ]
    }
   ],
   "source": [
    "divide(3, 0)"
   ]
  },
  {
   "cell_type": "code",
   "execution_count": null,
   "metadata": {
    "collapsed": true
   },
   "outputs": [],
   "source": []
  },
  {
   "cell_type": "code",
   "execution_count": null,
   "metadata": {
    "collapsed": true
   },
   "outputs": [],
   "source": []
  }
 ],
 "metadata": {
  "kernelspec": {
   "display_name": "Python 2",
   "language": "python",
   "name": "python2"
  },
  "language_info": {
   "codemirror_mode": {
    "name": "ipython",
    "version": 2
   },
   "file_extension": ".py",
   "mimetype": "text/x-python",
   "name": "python",
   "nbconvert_exporter": "python",
   "pygments_lexer": "ipython2",
   "version": "2.7.12"
  }
 },
 "nbformat": 4,
 "nbformat_minor": 0
}
