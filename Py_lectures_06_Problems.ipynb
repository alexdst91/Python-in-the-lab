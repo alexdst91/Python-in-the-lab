{
 "cells": [
  {
   "cell_type": "markdown",
   "metadata": {},
   "source": [
    "# Problem: generate the first n-th element of the Fibonacci sequence\n",
    "\n",
    "https://en.wikipedia.org/wiki/Fibonacci_number"
   ]
  },
  {
   "cell_type": "markdown",
   "metadata": {},
   "source": [
    "You can try yourself. It is a simple but not so easy problem to solve. Here below some of the solutions suggested by various groups of students. \n",
    "\n",
    "Let's take n = 500"
   ]
  },
  {
   "cell_type": "code",
   "execution_count": 1,
   "metadata": {
    "collapsed": true
   },
   "outputs": [],
   "source": [
    "import sys"
   ]
  },
  {
   "cell_type": "code",
   "execution_count": 2,
   "metadata": {
    "collapsed": false
   },
   "outputs": [
    {
     "name": "stdout",
     "output_type": "stream",
     "text": [
      "500: 139423224561697880139724382870407283950070256587697307264108962948325571622863290691557658876222521294125\n",
      "0.35167 ms\n"
     ]
    }
   ],
   "source": [
    "# Solution 1: n = 500\n",
    "n = 500\n",
    "from time import time\n",
    "t0 = time()\n",
    "serie = []\n",
    "serie.append(0)\n",
    "serie.append(1)\n",
    "for i in range(0, n-2):\n",
    "    serie.append(serie[-1]+serie[-2])\n",
    "print('{x:3}: {f:3}'.format(x = i+3, f = serie[-1]+serie[-2]))\n",
    "ts = (time() - t0)\n",
    "print(\"{0:.5f} ms\".format(ts*1000.))"
   ]
  },
  {
   "cell_type": "code",
   "execution_count": 3,
   "metadata": {
    "collapsed": false
   },
   "outputs": [
    {
     "name": "stdout",
     "output_type": "stream",
     "text": [
      "Used Memory: 4.272 kbytes\n"
     ]
    }
   ],
   "source": [
    "print(\"Used Memory: %.3f kbytes\" % (sys.getsizeof(serie)/1000))"
   ]
  },
  {
   "cell_type": "markdown",
   "metadata": {},
   "source": [
    "### Comment\n",
    "It is a good solution, it stricty apply the definition to solve the problem. Using range can be a little problem with very large N (why generate N numbers and make a loop over it?)"
   ]
  },
  {
   "cell_type": "code",
   "execution_count": 4,
   "metadata": {
    "collapsed": false
   },
   "outputs": [
    {
     "name": "stdout",
     "output_type": "stream",
     "text": [
      "139423224561697880139724382870407283950070256587697307264108962948325571622863290691557658876222521294125\n"
     ]
    }
   ],
   "source": [
    "# Solution 2:\n",
    "l = [0,1]\n",
    "count = 0\n",
    "while count <= n:\n",
    "    f = l[-2] + l[-1]\n",
    "    l.append(f)\n",
    "    count+=1\n",
    "print(l[n])"
   ]
  },
  {
   "cell_type": "markdown",
   "metadata": {},
   "source": [
    "### Comment\n",
    "Another good solution, this time using a \"while\" which solves the problem to make a list of n numbers using range.\n",
    "The problem is now: do we need to save all the other n-2 elements of the sequence in the list \"l\""
   ]
  },
  {
   "cell_type": "code",
   "execution_count": 5,
   "metadata": {
    "collapsed": false
   },
   "outputs": [
    {
     "name": "stdout",
     "output_type": "stream",
     "text": [
      "Used Memory: 4.392 kbytes\n"
     ]
    }
   ],
   "source": [
    "print(\"Used Memory: %.3f kbytes\" % (sys.getsizeof(l)/1000))"
   ]
  },
  {
   "cell_type": "code",
   "execution_count": 6,
   "metadata": {
    "collapsed": false
   },
   "outputs": [
    {
     "name": "stdout",
     "output_type": "stream",
     "text": [
      "139423224561697880139724382870407283950070256587697307264108962948325571622863290691557658876222521294125\n"
     ]
    }
   ],
   "source": [
    "# Solution 3:\n",
    "a, b = 0, 1\n",
    "count = 2\n",
    "while count <= n:\n",
    "    c= a + b\n",
    "    a, b = b, c\n",
    "    count += 1\n",
    "print(c)"
   ]
  },
  {
   "cell_type": "markdown",
   "metadata": {},
   "source": [
    "### Comment\n",
    "Excellent solution, no memory used!\n",
    "\n",
    "A little improvement, by the way"
   ]
  },
  {
   "cell_type": "code",
   "execution_count": 7,
   "metadata": {
    "collapsed": false
   },
   "outputs": [
    {
     "name": "stdout",
     "output_type": "stream",
     "text": [
      "139423224561697880139724382870407283950070256587697307264108962948325571622863290691557658876222521294125\n"
     ]
    }
   ],
   "source": [
    "# Solution 3b:\n",
    "a, b = 0, 1\n",
    "count = 2\n",
    "while count <= n:\n",
    "    a, b = b, a + b\n",
    "    count += 1\n",
    "print(b)"
   ]
  },
  {
   "cell_type": "markdown",
   "metadata": {},
   "source": [
    "### Comment\n",
    "It would be nice to make a loop without setting a counter. Something giving back a number of the sequence, everytime is asked. By the way, with the property of holding the previous values... is it too much to ask? "
   ]
  },
  {
   "cell_type": "code",
   "execution_count": 8,
   "metadata": {
    "collapsed": false
   },
   "outputs": [
    {
     "data": {
      "text/plain": [
       "139423224561697880139724382870407283950070256587697307264108962948325571622863290691557658876222521294125"
      ]
     },
     "execution_count": 8,
     "metadata": {},
     "output_type": "execute_result"
    }
   ],
   "source": [
    "# Solution 4\n",
    "# http://stackoverflow.com/questions/494594/how-to-write-the-fibonacci-sequence-in-python\n",
    "def fib_eff():\n",
    "    a, b = 0, 1\n",
    "    while True:            # First iteration:\n",
    "        yield a            # yield 0 to start with and then\n",
    "        a, b = b, a + b\n",
    "\n",
    "def fib(n):\n",
    "    for i, f in enumerate(fib_eff()):\n",
    "        if i == n:\n",
    "            return f\n",
    "        \n",
    "fib(n)"
   ]
  },
  {
   "cell_type": "code",
   "execution_count": 9,
   "metadata": {
    "collapsed": true
   },
   "outputs": [],
   "source": [
    "# Solution 5\n",
    "def fib_rec(n):\n",
    "    '''inefficient recursive function as defined, returns Fibonacci number'''\n",
    "    if n > 1:\n",
    "        return fib_rec(n-1) + fib_rec(n-2)\n",
    "    return n"
   ]
  },
  {
   "cell_type": "markdown",
   "metadata": {},
   "source": [
    "### Comment\n",
    "It is also possible to use another method, calling the function itself as many times as need. \n",
    "\n",
    "Unfortunately this is pretty inefficient! Do not try with n > 35!"
   ]
  },
  {
   "cell_type": "code",
   "execution_count": 14,
   "metadata": {
    "collapsed": false
   },
   "outputs": [
    {
     "name": "stdout",
     "output_type": "stream",
     "text": [
      "9227465\n",
      "3538.53130 ms\n"
     ]
    }
   ],
   "source": [
    "t0 = time()\n",
    "print(fib_rec(35))\n",
    "ts = (time() - t0)\n",
    "print(\"{0:.5f} ms\".format(ts*1000.))\n",
    "# n = 500 takes too much time!!!"
   ]
  },
  {
   "cell_type": "code",
   "execution_count": 15,
   "metadata": {
    "collapsed": false
   },
   "outputs": [
    {
     "name": "stdout",
     "output_type": "stream",
     "text": [
      "139423224561697880139724382870407283950070256587697307264108962948325571622863290691557658876222521294125\n",
      "3.82328 ms\n"
     ]
    }
   ],
   "source": [
    "# Solution 5b: use an internal cache!\n",
    "def fib_mem(n, _cache={}):\n",
    "    '''efficiently memoized recursive function, returns a Fibonacci number'''\n",
    "    if n in _cache:\n",
    "        #print(_cache)\n",
    "        return _cache[n]\n",
    "    elif n > 1:\n",
    "        # https://docs.python.org/3.6/library/stdtypes.html?highlight=setdefault#dict.setdefault\n",
    "        return _cache.setdefault(n, fib_mem(n-1) + fib_mem(n-2))\n",
    "    return n\n",
    "\n",
    "t0 = time()\n",
    "print(fib_mem(500))\n",
    "ts = (time() - t0)\n",
    "print(\"{0:.5f} ms\".format(ts*1000.))"
   ]
  },
  {
   "cell_type": "markdown",
   "metadata": {},
   "source": [
    "# Problem:\n",
    "\n",
    "Show that using the [Box-Muller transform](https://en.wikipedia.org/wiki/Box%E2%80%93Muller_transform) is possible to general a random sequence of gaussian distributed number taking two random sequences of uniformly distributed numbers"
   ]
  },
  {
   "cell_type": "code",
   "execution_count": 56,
   "metadata": {
    "collapsed": false
   },
   "outputs": [
    {
     "data": {
      "image/png": "[encoded data removed]",
      "text/plain": [
       "<matplotlib.figure.Figure at 0x7fb24770fef0>"
      ]
     },
     "metadata": {},
     "output_type": "display_data"
    }
   ],
   "source": [
    "import numpy as np \n",
    "import matplotlib.pylab as plt\n",
    "%matplotlib inline\n",
    "\n",
    "n, bins = 1000000, 100\n",
    "\n",
    "# transformation function\n",
    "def gaussian(u1,u2):\n",
    "    zz = np.sqrt(-2*np.log(u1))\n",
    "    z1 = zz * np.cos(2*np.pi*u2)\n",
    "    z2 = zz * np.sin(2*np.pi*u2)\n",
    "    return z1,z2\n",
    "\n",
    "def gaussian_th(x, mu=0, sig=1):\n",
    "    norm = ((2 * np.pi)**0.5 * sig)\n",
    "    g = np.exp(-((x - mu) * (x - mu)) / (2 * sig * sig))\n",
    "    return g/norm\n",
    "\n",
    "# uniformly distributed values between 0 and 1\n",
    "u1 = np.random.rand(n)\n",
    "u2 = np.random.rand(n)\n",
    "\n",
    "# run the transformation\n",
    "z1,z2 = gaussian(u1,u2)\n",
    "\n",
    "# plotting the values before and after the transformation\n",
    "fig, axs = plt.subplots(2,2, figsize=(12,8))\n",
    "res = [u1, u2, z1, z2]\n",
    "colors = \"rb\"\n",
    "for i in range(4):\n",
    "    row, col = i//2, i%2\n",
    "    axs[row, col].hist(res[i], bins=bins, color=colors[col], normed=True)\n",
    "    #np.histogram(v, bins=bins)\n",
    "\n",
    "x = np.linspace(-6,6,150) \n",
    "for i in range(2):\n",
    "    axs[1,i].plot(x, gaussian_th(x, sig=1), lw=4, c='k')\n",
    "    axs[1,i].axis((-6,6,0,0.45))\n",
    "plt.show()"
   ]
  },
  {
   "cell_type": "code",
   "execution_count": null,
   "metadata": {
    "collapsed": true
   },
   "outputs": [],
   "source": []
  }
 ],
 "metadata": {
  "kernelspec": {
   "display_name": "Python 3",
   "language": "python",
   "name": "python3"
  },
  "language_info": {
   "codemirror_mode": {
    "name": "ipython",
    "version": 3
   },
   "file_extension": ".py",
   "mimetype": "text/x-python",
   "name": "python",
   "nbconvert_exporter": "python",
   "pygments_lexer": "ipython3",
   "version": "3.5.2"
  }
 },
 "nbformat": 4,
 "nbformat_minor": 0
}
