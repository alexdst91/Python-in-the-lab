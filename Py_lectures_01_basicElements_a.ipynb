{
 "cells": [
  {
   "cell_type": "markdown",
   "metadata": {},
   "source": [
    "# Introduction to Python: basic elements I"
   ]
  },
  {
   "cell_type": "markdown",
   "metadata": {},
   "source": [
    "### This is a short introduction to the Python language.\n",
    "### The idea is to learn by trying, with problem of increasing diffculty (and interest)"
   ]
  },
  {
   "cell_type": "code",
   "execution_count": 1,
   "metadata": {},
   "outputs": [
    {
     "data": {
      "text/plain": [
       "'/home/gf/src/Python/Python-in-the-lab/Bk'"
      ]
     },
     "execution_count": 1,
     "metadata": {},
     "output_type": "execute_result"
    }
   ],
   "source": [
    "import os\n",
    "os.chdir(\"/home/gf/src/Python/Python-in-the-lab/Bk\") # Insert here your directory. Windows should have \"\\\" instead of \"/\"\n",
    "os.path.abspath(\".\")"
   ]
  },
  {
   "cell_type": "markdown",
   "metadata": {},
   "source": [
    "This directory contains a lot of (old) data, and we would like to plot one of files. We need first to manipulate the filenames, so to learn about the strings. Then we need to load the file, and plot. It takes a while, by the way..."
   ]
  },
  {
   "cell_type": "code",
   "execution_count": 2,
   "metadata": {},
   "outputs": [
    {
     "ename": "ModuleNotFoundError",
     "evalue": "No module named 'OS'",
     "output_type": "error",
     "traceback": [
      "\u001b[1;31m---------------------------------------------------------------------------\u001b[0m",
      "\u001b[1;31mModuleNotFoundError\u001b[0m                       Traceback (most recent call last)",
      "\u001b[1;32m<ipython-input-2-2525ac2a42f1>\u001b[0m in \u001b[0;36m<module>\u001b[1;34m()\u001b[0m\n\u001b[0;32m      1\u001b[0m \u001b[1;31m# Be carefull: python is case sensitive!\u001b[0m\u001b[1;33m\u001b[0m\u001b[1;33m\u001b[0m\u001b[1;33m\u001b[0m\u001b[0m\n\u001b[1;32m----> 2\u001b[1;33m \u001b[1;32mimport\u001b[0m \u001b[0mOS\u001b[0m\u001b[1;33m\u001b[0m\u001b[1;33m\u001b[0m\u001b[0m\n\u001b[0m",
      "\u001b[1;31mModuleNotFoundError\u001b[0m: No module named 'OS'"
     ]
    }
   ],
   "source": [
    "# Be carefull: python is case sensitive!\n",
    "import OS"
   ]
  },
  {
   "cell_type": "markdown",
   "metadata": {},
   "source": [
    "### Let's start with this file."
   ]
  },
  {
   "cell_type": "code",
   "execution_count": 3,
   "metadata": {},
   "outputs": [],
   "source": [
    "filename = \"F64ac_0.02_T.dat\" # No previous definition of the filename variable"
   ]
  },
  {
   "cell_type": "code",
   "execution_count": 4,
   "metadata": {},
   "outputs": [
    {
     "data": {
      "text/plain": [
       "str"
      ]
     },
     "execution_count": 4,
     "metadata": {},
     "output_type": "execute_result"
    }
   ],
   "source": [
    "type(filename)"
   ]
  },
  {
   "cell_type": "markdown",
   "metadata": {},
   "source": [
    "What can I do with a string? \n",
    "Many things, of course. Some operations are intrinsically linked to type of variable you are using. These are called Methods. Try to add a \".\" after filename, like this, and press \"tab\"\n",
    "> filename.TAB"
   ]
  },
  {
   "cell_type": "code",
   "execution_count": 5,
   "metadata": {},
   "outputs": [
    {
     "data": {
      "text/plain": [
       "<function str.count>"
      ]
     },
     "execution_count": 5,
     "metadata": {},
     "output_type": "execute_result"
    }
   ],
   "source": [
    "filename.count"
   ]
  },
  {
   "cell_type": "code",
   "execution_count": 6,
   "metadata": {},
   "outputs": [
    {
     "data": {
      "text/plain": [
       "1"
      ]
     },
     "execution_count": 6,
     "metadata": {},
     "output_type": "execute_result"
    }
   ],
   "source": [
    "# Search how many time a string occurs\n",
    "filename.count(\"0.02\")"
   ]
  },
  {
   "cell_type": "code",
   "execution_count": 7,
   "metadata": {},
   "outputs": [
    {
     "data": {
      "text/plain": [
       "6"
      ]
     },
     "execution_count": 7,
     "metadata": {},
     "output_type": "execute_result"
    }
   ],
   "source": [
    "# Find the position of a string\n",
    "filename.find(\"0.02\")"
   ]
  },
  {
   "cell_type": "markdown",
   "metadata": {},
   "source": [
    "oh, is it right? The first \"0\" is at the 7th position!\n",
    "Python starts from zero. Remind it!"
   ]
  },
  {
   "cell_type": "code",
   "execution_count": 8,
   "metadata": {},
   "outputs": [
    {
     "name": "stdout",
     "output_type": "stream",
     "text": [
      "0.02_T.dat\n"
     ]
    },
    {
     "data": {
      "text/plain": [
       "'0.02_T'"
      ]
     },
     "execution_count": 8,
     "metadata": {},
     "output_type": "execute_result"
    }
   ],
   "source": [
    "print(filename[6:]) # 6: means \"from element 6 on\"\n",
    "filename[6:-4] # means from 6th element to the 4th element to the end"
   ]
  },
  {
   "cell_type": "code",
   "execution_count": 9,
   "metadata": {},
   "outputs": [
    {
     "name": "stdout",
     "output_type": "stream",
     "text": [
      "F64AC_0.02_T.DAT\n",
      "False\n",
      "f64ac_0.02_t.dat\n"
     ]
    }
   ],
   "source": [
    "# Other methods: explore yourself\n",
    "print(filename.upper())\n",
    "print(filename.islower())\n",
    "print(filename.lower())"
   ]
  },
  {
   "cell_type": "markdown",
   "metadata": {},
   "source": [
    "### A string is numerable"
   ]
  },
  {
   "cell_type": "code",
   "execution_count": 10,
   "metadata": {},
   "outputs": [
    {
     "name": "stdout",
     "output_type": "stream",
     "text": [
      "a\n",
      "----------------------------------------\n",
      "F\n",
      "6\n",
      "4\n",
      "a\n",
      "c\n",
      "_\n",
      "0\n",
      ".\n",
      "0\n",
      "2\n",
      "_\n",
      "T\n",
      ".\n",
      "d\n",
      "a\n",
      "t\n"
     ]
    }
   ],
   "source": [
    "print(filename[3])\n",
    "print(\"-\"*40)\n",
    "for element in filename:\n",
    "    print(element)"
   ]
  },
  {
   "cell_type": "markdown",
   "metadata": {},
   "source": [
    "### A string is immutable"
   ]
  },
  {
   "cell_type": "code",
   "execution_count": 11,
   "metadata": {},
   "outputs": [
    {
     "ename": "TypeError",
     "evalue": "'str' object does not support item assignment",
     "output_type": "error",
     "traceback": [
      "\u001b[1;31m---------------------------------------------------------------------------\u001b[0m",
      "\u001b[1;31mTypeError\u001b[0m                                 Traceback (most recent call last)",
      "\u001b[1;32m<ipython-input-11-32160fddcc82>\u001b[0m in \u001b[0;36m<module>\u001b[1;34m()\u001b[0m\n\u001b[1;32m----> 1\u001b[1;33m \u001b[0mfilename\u001b[0m\u001b[1;33m[\u001b[0m\u001b[1;36m6\u001b[0m\u001b[1;33m]\u001b[0m \u001b[1;33m=\u001b[0m \u001b[1;34m\"2\"\u001b[0m\u001b[1;33m\u001b[0m\u001b[1;33m\u001b[0m\u001b[0m\n\u001b[0m",
      "\u001b[1;31mTypeError\u001b[0m: 'str' object does not support item assignment"
     ]
    }
   ],
   "source": [
    "filename[6] = \"2\""
   ]
  },
  {
   "cell_type": "markdown",
   "metadata": {},
   "source": [
    "### How can we extract some content from a string?\n",
    "This filename, for instance, is made as follows:\n",
    "Material_Frequency_TypeOfData.dat\n",
    "\n",
    "How do we extract the frequency?"
   ]
  },
  {
   "cell_type": "code",
   "execution_count": 12,
   "metadata": {},
   "outputs": [
    {
     "data": {
      "text/plain": [
       "['F64ac', '0.02', 'T.dat']"
      ]
     },
     "execution_count": 12,
     "metadata": {},
     "output_type": "execute_result"
    }
   ],
   "source": [
    "# Use the split method with an arbitrary element\n",
    "filename.split(\"_\")"
   ]
  },
  {
   "cell_type": "code",
   "execution_count": 13,
   "metadata": {},
   "outputs": [
    {
     "data": {
      "text/plain": [
       "list"
      ]
     },
     "execution_count": 13,
     "metadata": {},
     "output_type": "execute_result"
    }
   ],
   "source": [
    "# What is ths \"[]\"? Let's investigate\n",
    "l = filename.split(\"_\")\n",
    "type(l)"
   ]
  },
  {
   "cell_type": "markdown",
   "metadata": {},
   "source": [
    "I guess a list has some methods, does it?"
   ]
  },
  {
   "cell_type": "code",
   "execution_count": 14,
   "metadata": {},
   "outputs": [
    {
     "name": "stdout",
     "output_type": "stream",
     "text": [
      "['0.02', 'T.dat']\n",
      "['F64ac', '0.02']\n",
      "['F64ac', '0.02', 'T.dat', 'something']\n",
      "['F64ac', '0.02', 'T.dat', 'something', 43]\n",
      "['F64ac', '0.02', 'T.dat', 'something']\n"
     ]
    }
   ],
   "source": [
    "print(l[1:]) # Numerable\n",
    "print(l[:-1])\n",
    "l.append(\"something\")\n",
    "print(l)\n",
    "l.append(43)\n",
    "print(l)\n",
    "l.pop()\n",
    "print(l)"
   ]
  },
  {
   "cell_type": "markdown",
   "metadata": {},
   "source": [
    "Something to say?"
   ]
  },
  {
   "cell_type": "code",
   "execution_count": 15,
   "metadata": {},
   "outputs": [
    {
     "data": {
      "text/plain": [
       "['F64ac', '0.02', 'T', 'nice!', 3]"
      ]
     },
     "execution_count": 15,
     "metadata": {},
     "output_type": "execute_result"
    }
   ],
   "source": [
    "out = filename[:-4].split(\"_\")\n",
    "out.append(\"nice!\")\n",
    "out.append(3)\n",
    "out"
   ]
  },
  {
   "cell_type": "code",
   "execution_count": 16,
   "metadata": {},
   "outputs": [
    {
     "data": {
      "text/plain": [
       "['F64ac', '0.02', 'T', 'nice!', 3, [...]]"
      ]
     },
     "execution_count": 16,
     "metadata": {},
     "output_type": "execute_result"
    }
   ],
   "source": [
    "out.append(out)\n",
    "out\n",
    "# the result depends on how many times you run it!"
   ]
  },
  {
   "cell_type": "markdown",
   "metadata": {},
   "source": [
    "#### Back to the filename: there is also a smart way to split the name from the extension"
   ]
  },
  {
   "cell_type": "code",
   "execution_count": 17,
   "metadata": {},
   "outputs": [
    {
     "data": {
      "text/plain": [
       "('F64ac_0.02_T', '.dat')"
      ]
     },
     "execution_count": 17,
     "metadata": {},
     "output_type": "execute_result"
    }
   ],
   "source": [
    "os.path.splitext(filename)"
   ]
  },
  {
   "cell_type": "code",
   "execution_count": 18,
   "metadata": {},
   "outputs": [
    {
     "name": "stdout",
     "output_type": "stream",
     "text": [
      "('F64ac_0.02_T', '.dat') <class 'tuple'>\n"
     ]
    }
   ],
   "source": [
    "# oh, now \"()\" ??? What is it?\n",
    "q = os.path.splitext(filename)\n",
    "print(q, type(q))"
   ]
  },
  {
   "cell_type": "code",
   "execution_count": 19,
   "metadata": {},
   "outputs": [],
   "source": [
    "# So it splits the basename and the extension into a tuple. So can I...\n",
    "basename, ext = os.path.splitext(filename)"
   ]
  },
  {
   "cell_type": "code",
   "execution_count": 20,
   "metadata": {},
   "outputs": [
    {
     "data": {
      "text/plain": [
       "'F64ac_0.02_T'"
      ]
     },
     "execution_count": 20,
     "metadata": {},
     "output_type": "execute_result"
    }
   ],
   "source": [
    "basename # Yes!"
   ]
  },
  {
   "cell_type": "code",
   "execution_count": 21,
   "metadata": {},
   "outputs": [
    {
     "data": {
      "text/plain": [
       "'.dat'"
      ]
     },
     "execution_count": 21,
     "metadata": {},
     "output_type": "execute_result"
    }
   ],
   "source": [
    "ext "
   ]
  },
  {
   "cell_type": "code",
   "execution_count": 22,
   "metadata": {},
   "outputs": [
    {
     "name": "stdout",
     "output_type": "stream",
     "text": [
      "0.02\n"
     ]
    }
   ],
   "source": [
    "# So finally I can split the base name and take the second element for the frequency\n",
    "# Even better I can immediately get the frequency as\n",
    "material, freq, measure = basename.split(\"_\")\n",
    "print(freq) # This is still a string!"
   ]
  },
  {
   "cell_type": "markdown",
   "metadata": {},
   "source": [
    "### Something about tuples\n",
    "A tuple is immutable, but numerable"
   ]
  },
  {
   "cell_type": "code",
   "execution_count": 26,
   "metadata": {},
   "outputs": [
    {
     "data": {
      "text/plain": [
       "tuple"
      ]
     },
     "execution_count": 26,
     "metadata": {},
     "output_type": "execute_result"
    }
   ],
   "source": [
    "q = ('a', 'b')\n",
    "type(q)"
   ]
  },
  {
   "cell_type": "code",
   "execution_count": 27,
   "metadata": {},
   "outputs": [
    {
     "data": {
      "text/plain": [
       "'a'"
      ]
     },
     "execution_count": 27,
     "metadata": {},
     "output_type": "execute_result"
    }
   ],
   "source": [
    "q[0]"
   ]
  },
  {
   "cell_type": "code",
   "execution_count": 28,
   "metadata": {},
   "outputs": [
    {
     "ename": "TypeError",
     "evalue": "'tuple' object does not support item assignment",
     "output_type": "error",
     "traceback": [
      "\u001b[0;31m---------------------------------------------------------------------------\u001b[0m",
      "\u001b[0;31mTypeError\u001b[0m                                 Traceback (most recent call last)",
      "\u001b[0;32m<ipython-input-28-fc9e6d80d58d>\u001b[0m in \u001b[0;36m<module>\u001b[0;34m()\u001b[0m\n\u001b[0;32m----> 1\u001b[0;31m \u001b[0mq\u001b[0m\u001b[0;34m[\u001b[0m\u001b[0;36m0\u001b[0m\u001b[0;34m]\u001b[0m \u001b[0;34m=\u001b[0m \u001b[0;34m'c'\u001b[0m\u001b[0;34m\u001b[0m\u001b[0m\n\u001b[0m",
      "\u001b[0;31mTypeError\u001b[0m: 'tuple' object does not support item assignment"
     ]
    }
   ],
   "source": [
    "q[0] = 'c'"
   ]
  },
  {
   "cell_type": "markdown",
   "metadata": {},
   "source": [
    "### Formatting methods"
   ]
  },
  {
   "cell_type": "code",
   "execution_count": 29,
   "metadata": {},
   "outputs": [
    {
     "name": "stdout",
     "output_type": "stream",
     "text": [
      "The sqrt of 326 is 18.05547\n",
      "The sqrt of 326 is 18.05547\n"
     ]
    }
   ],
   "source": [
    "# Formatting methods can be found here: https://docs.python.org/2/library/string.html\n",
    "# There are two versions\n",
    "n = 326\n",
    "print(\"The sqrt of {x:n} is {y:.5f}\".format(x=n, y=n**.5)) # From 2.7 and 3.5\n",
    "print(\"The sqrt of %i is %.5f\" % (n, n**.5))"
   ]
  },
  {
   "cell_type": "markdown",
   "metadata": {},
   "source": [
    "## Problem n. 1"
   ]
  },
  {
   "cell_type": "markdown",
   "metadata": {},
   "source": [
    "### Construct the following strings: \"F64ac_0.02_T_2.dat\""
   ]
  },
  {
   "cell_type": "code",
   "execution_count": 30,
   "metadata": {},
   "outputs": [
    {
     "data": {
      "text/plain": [
       "'F64ac_0.02_T_2.dat'"
      ]
     },
     "execution_count": 30,
     "metadata": {},
     "output_type": "execute_result"
    }
   ],
   "source": [
    "# Solution n. 1\n",
    "# Not very pythonic\n",
    "filename2 = filename[:-4] + \"_2\" + filename[-4:]\n",
    "filename2"
   ]
  },
  {
   "cell_type": "code",
   "execution_count": 31,
   "metadata": {},
   "outputs": [
    {
     "data": {
      "text/plain": [
       "'F64ac_0.02_T_2.dat'"
      ]
     },
     "execution_count": 31,
     "metadata": {},
     "output_type": "execute_result"
    }
   ],
   "source": [
    "# Solution n. 3\n",
    "# Not bad, but not very general\n",
    "filename2 = filename.replace(\"T\", \"T_2\")\n",
    "filename2"
   ]
  },
  {
   "cell_type": "code",
   "execution_count": 33,
   "metadata": {},
   "outputs": [
    {
     "data": {
      "text/plain": [
       "'F64ac_0.02_T_2.dat'"
      ]
     },
     "execution_count": 33,
     "metadata": {},
     "output_type": "execute_result"
    }
   ],
   "source": [
    "# Solution n. 3\n",
    "\"%s_2%s\" % os.path.splitext(filename)\n",
    "# Hmmm, a little better"
   ]
  },
  {
   "cell_type": "code",
   "execution_count": 34,
   "metadata": {},
   "outputs": [
    {
     "data": {
      "text/plain": [
       "'F64ac_0.02_T_2.dat'"
      ]
     },
     "execution_count": 34,
     "metadata": {},
     "output_type": "execute_result"
    }
   ],
   "source": [
    "# Solution n. 3b\n",
    "basename, ext = os.path.splitext(filename)\n",
    "\"%s_%s%s\" % (basename, 2, ext) # the 3 elements have to stay in a tuple"
   ]
  },
  {
   "cell_type": "code",
   "execution_count": 35,
   "metadata": {},
   "outputs": [
    {
     "name": "stdout",
     "output_type": "stream",
     "text": [
      "F64ac_0.02_T_2.dat\n",
      "F64ac_0.02_T_2.dat\n"
     ]
    }
   ],
   "source": [
    "# Even better\n",
    "print(\"{0}_{1}{2}\".format(basename, 2, ext)) # In Python 3.X\n",
    "print(\"{}_{}{}\".format(basename, 2, ext)) # This works as well"
   ]
  },
  {
   "cell_type": "markdown",
   "metadata": {},
   "source": [
    "### In general we can have thousand of files, so we need to write the number \"2\" with some leading zeros, so to preserve the order of the filenames: \"F64ac_0.02_T_0002.dat\""
   ]
  },
  {
   "cell_type": "code",
   "execution_count": 36,
   "metadata": {},
   "outputs": [
    {
     "name": "stdout",
     "output_type": "stream",
     "text": [
      "F64ac_0.02_T_0002.dat\n",
      "F64ac_0.02_T_0002.dat\n",
      "F64ac_0.02_T_0002.dat\n"
     ]
    }
   ],
   "source": [
    "print(\"{0}_{1}{2}\".format(basename, \"2\".rjust(4, \"0\"), ext))\n",
    "# Even simpler\n",
    "print(\"{0}_{1:0>4}{2}\".format(basename, \"2\", ext))\n",
    "# But also this works\n",
    "print(\"{0}_{1:0>4}{2}\".format(basename, 2, ext))"
   ]
  },
  {
   "cell_type": "markdown",
   "metadata": {},
   "source": [
    "### Now we want the filenames from 0000 to 1000 with step 100, preserving the order. \n",
    "\n",
    "Explore the use of range"
   ]
  },
  {
   "cell_type": "code",
   "execution_count": 37,
   "metadata": {},
   "outputs": [
    {
     "name": "stdout",
     "output_type": "stream",
     "text": [
      "F64ac_0.02_T_0000.dat\n",
      "F64ac_0.02_T_0100.dat\n",
      "F64ac_0.02_T_0200.dat\n",
      "F64ac_0.02_T_0300.dat\n",
      "F64ac_0.02_T_0400.dat\n",
      "F64ac_0.02_T_0500.dat\n",
      "F64ac_0.02_T_0600.dat\n",
      "F64ac_0.02_T_0700.dat\n",
      "F64ac_0.02_T_0800.dat\n",
      "F64ac_0.02_T_0900.dat\n",
      "F64ac_0.02_T_1000.dat\n"
     ]
    }
   ],
   "source": [
    "for i in range(0,1100,100):\n",
    "    print(\"{0}_{1:0>4}{2}\".format(basename, i, ext))"
   ]
  },
  {
   "cell_type": "markdown",
   "metadata": {},
   "source": [
    "### Problem 2"
   ]
  },
  {
   "cell_type": "markdown",
   "metadata": {},
   "source": [
    "### Let's do it a little more general, between n_min and n_max, with n_step\n",
    "### How to change the code above? (You can do it) "
   ]
  },
  {
   "cell_type": "code",
   "execution_count": 42,
   "metadata": {},
   "outputs": [
    {
     "ename": "ValueError",
     "evalue": "Invalid format specifier",
     "output_type": "error",
     "traceback": [
      "\u001b[0;31m---------------------------------------------------------------------------\u001b[0m",
      "\u001b[0;31mValueError\u001b[0m                                Traceback (most recent call last)",
      "\u001b[0;32m<ipython-input-42-8c78a160de0d>\u001b[0m in \u001b[0;36m<module>\u001b[0;34m()\u001b[0m\n\u001b[1;32m      2\u001b[0m \u001b[0mn_car\u001b[0m \u001b[0;34m=\u001b[0m \u001b[0mlen\u001b[0m\u001b[0;34m(\u001b[0m\u001b[0mstr\u001b[0m\u001b[0;34m(\u001b[0m\u001b[0mn_max\u001b[0m\u001b[0;34m)\u001b[0m\u001b[0;34m)\u001b[0m\u001b[0;34m\u001b[0m\u001b[0m\n\u001b[1;32m      3\u001b[0m \u001b[0;32mfor\u001b[0m \u001b[0mi\u001b[0m \u001b[0;32min\u001b[0m \u001b[0mrange\u001b[0m\u001b[0;34m(\u001b[0m\u001b[0mn_min\u001b[0m\u001b[0;34m,\u001b[0m \u001b[0mn_max\u001b[0m\u001b[0;34m+\u001b[0m\u001b[0mn_step\u001b[0m\u001b[0;34m,\u001b[0m \u001b[0mn_step\u001b[0m\u001b[0;34m)\u001b[0m\u001b[0;34m:\u001b[0m\u001b[0;34m\u001b[0m\u001b[0m\n\u001b[0;32m----> 4\u001b[0;31m      \u001b[0mprint\u001b[0m\u001b[0;34m(\u001b[0m\u001b[0;34m\"{0}_{1:0>n_car}{2}\"\u001b[0m\u001b[0;34m.\u001b[0m\u001b[0mformat\u001b[0m\u001b[0;34m(\u001b[0m\u001b[0mbasename\u001b[0m\u001b[0;34m,\u001b[0m \u001b[0mi\u001b[0m\u001b[0;34m,\u001b[0m \u001b[0mext\u001b[0m\u001b[0;34m)\u001b[0m\u001b[0;34m)\u001b[0m \u001b[0;31m# This does not work!\u001b[0m\u001b[0;34m\u001b[0m\u001b[0m\n\u001b[0m",
      "\u001b[0;31mValueError\u001b[0m: Invalid format specifier"
     ]
    }
   ],
   "source": [
    "n_min, n_max, n_step = 0, 1000, 1000\n",
    "n_car = len(str(n_max))\n",
    "for i in range(n_min, n_max+n_step, n_step):\n",
    "     print(\"{0}_{1:0>n_car}{2}\".format(basename, i, ext)) # This does not work!"
   ]
  },
  {
   "cell_type": "code",
   "execution_count": 50,
   "metadata": {},
   "outputs": [
    {
     "name": "stdout",
     "output_type": "stream",
     "text": [
      "F64ac_0.02_T_000.dat\n",
      "F64ac_0.02_T_030.dat\n",
      "F64ac_0.02_T_060.dat\n",
      "F64ac_0.02_T_090.dat\n",
      "F64ac_0.02_T_120.dat\n",
      "F64ac_0.02_T_150.dat\n",
      "F64ac_0.02_T_180.dat\n",
      "F64ac_0.02_T_210.dat\n",
      "F64ac_0.02_T_240.dat\n",
      "F64ac_0.02_T_270.dat\n"
     ]
    }
   ],
   "source": [
    "n_min, n_max, n_step = 0, 270, 30\n",
    "n_car = len(str(n_max))\n",
    "for i in range(n_min, n_max+n_step, n_step):\n",
    "    print(\"{0}_{1}{2}\".format(basename, str(i).rjust(n_car, \"0\"), ext))"
   ]
  },
  {
   "cell_type": "code",
   "execution_count": null,
   "metadata": {
    "collapsed": true
   },
   "outputs": [],
   "source": []
  }
 ],
 "metadata": {
  "kernelspec": {
   "display_name": "Python 3",
   "language": "python",
   "name": "python3"
  },
  "language_info": {
   "codemirror_mode": {
    "name": "ipython",
    "version": 3
   },
   "file_extension": ".py",
   "mimetype": "text/x-python",
   "name": "python",
   "nbconvert_exporter": "python",
   "pygments_lexer": "ipython3",
   "version": "3.6.7"
  }
 },
 "nbformat": 4,
 "nbformat_minor": 1
}
