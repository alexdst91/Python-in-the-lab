{
 "cells": [
  {
   "cell_type": "markdown",
   "metadata": {},
   "source": [
    "# Introduction to Python: basic elements I"
   ]
  },
  {
   "cell_type": "markdown",
   "metadata": {},
   "source": [
    "This is an introduction to the Python language.\n",
    "The idea is to learn by trying, with problem of increasing diffculty (and interest)"
   ]
  },
  {
   "cell_type": "markdown",
   "metadata": {},
   "source": [
    "First of all, we need to move to the directory where we put the data of the Bk.zip file provided with the course"
   ]
  },
  {
   "cell_type": "code",
   "execution_count": 3,
   "metadata": {},
   "outputs": [
    {
     "data": {
      "text/plain": [
       "'/home/gf/src/Python/Python-in-the-lab/Bk'"
      ]
     },
     "execution_count": 3,
     "metadata": {},
     "output_type": "execute_result"
    }
   ],
   "source": [
    "import os\n",
    "# Insert here your directory. This works for Linux and OSX\n",
    "os.chdir(\"/home/gf/src/Python/Python-in-the-lab/Bk\") \n",
    "# for Windows you should put \"\\\" instead of \"/\", i.e.\n",
    "# os.chdir(\"c:\\\\yourdirectory\\your_sub_dir\\Bk\")\n",
    "# Now we check the directory we are in\n",
    "os.path.abspath(\".\")"
   ]
  },
  {
   "cell_type": "code",
   "execution_count": 4,
   "metadata": {},
   "outputs": [
    {
     "ename": "ModuleNotFoundError",
     "evalue": "No module named 'OS'",
     "output_type": "error",
     "traceback": [
      "\u001b[1;31m---------------------------------------------------------------------------\u001b[0m",
      "\u001b[1;31mModuleNotFoundError\u001b[0m                       Traceback (most recent call last)",
      "\u001b[1;32m<ipython-input-4-10af4188258c>\u001b[0m in \u001b[0;36m<module>\u001b[1;34m\u001b[0m\n\u001b[0;32m      1\u001b[0m \u001b[1;31m# Be carefull: python is case sensitive!\u001b[0m\u001b[1;33m\u001b[0m\u001b[1;33m\u001b[0m\u001b[1;33m\u001b[0m\u001b[0m\n\u001b[1;32m----> 2\u001b[1;33m \u001b[1;32mimport\u001b[0m \u001b[0mOS\u001b[0m\u001b[1;33m\u001b[0m\u001b[1;33m\u001b[0m\u001b[0m\n\u001b[0m\u001b[0;32m      3\u001b[0m \u001b[1;31m# This is your first error. Many others will come!\u001b[0m\u001b[1;33m\u001b[0m\u001b[1;33m\u001b[0m\u001b[1;33m\u001b[0m\u001b[0m\n\u001b[0;32m      4\u001b[0m \u001b[1;31m# Very often you understand from the error what happened\u001b[0m\u001b[1;33m\u001b[0m\u001b[1;33m\u001b[0m\u001b[1;33m\u001b[0m\u001b[0m\n",
      "\u001b[1;31mModuleNotFoundError\u001b[0m: No module named 'OS'"
     ]
    }
   ],
   "source": [
    "# Be carefull: python is case sensitive!\n",
    "import OS\n",
    "# This is your first error. Many others will come!\n",
    "# Very often you understand from the error what happened"
   ]
  },
  {
   "cell_type": "markdown",
   "metadata": {},
   "source": [
    "This directory contains a lot of (old) data, and we would like to plot one of files. We need first to manipulate the filenames, so to learn about the strings. Then we need to load the file, and plot. It takes a while, by the way...\n",
    "Let's start with this file."
   ]
  },
  {
   "cell_type": "code",
   "execution_count": 5,
   "metadata": {},
   "outputs": [],
   "source": [
    "filename = \"F64ac_0.02_T.dat\" # No previous definition of the filename variable"
   ]
  },
  {
   "cell_type": "code",
   "execution_count": 6,
   "metadata": {},
   "outputs": [
    {
     "data": {
      "text/plain": [
       "str"
      ]
     },
     "execution_count": 6,
     "metadata": {},
     "output_type": "execute_result"
    }
   ],
   "source": [
    "# Let's check the type of this variable\n",
    "type(filename)"
   ]
  },
  {
   "cell_type": "markdown",
   "metadata": {},
   "source": [
    "What can I do with a string? \n",
    "Many things, of course. Some operations are intrinsically linked to type of variable you are using. These are called Methods. Try to add a \".\" after filename, like this, and press \"tab\"\n",
    "> filename.TAB"
   ]
  },
  {
   "cell_type": "code",
   "execution_count": 5,
   "metadata": {},
   "outputs": [
    {
     "data": {
      "text/plain": [
       "<function str.count>"
      ]
     },
     "execution_count": 5,
     "metadata": {},
     "output_type": "execute_result"
    }
   ],
   "source": [
    "filename.count"
   ]
  },
  {
   "cell_type": "code",
   "execution_count": 6,
   "metadata": {},
   "outputs": [
    {
     "data": {
      "text/plain": [
       "1"
      ]
     },
     "execution_count": 6,
     "metadata": {},
     "output_type": "execute_result"
    }
   ],
   "source": [
    "# Search how many time a string occurs\n",
    "filename.count(\"0.02\")"
   ]
  },
  {
   "cell_type": "code",
   "execution_count": 7,
   "metadata": {},
   "outputs": [
    {
     "data": {
      "text/plain": [
       "2"
      ]
     },
     "execution_count": 7,
     "metadata": {},
     "output_type": "execute_result"
    }
   ],
   "source": [
    "filename.count(\"0\")"
   ]
  },
  {
   "cell_type": "code",
   "execution_count": 7,
   "metadata": {},
   "outputs": [
    {
     "data": {
      "text/plain": [
       "6"
      ]
     },
     "execution_count": 7,
     "metadata": {},
     "output_type": "execute_result"
    }
   ],
   "source": [
    "# Find the position of a string\n",
    "filename.find(\"0.02\")"
   ]
  },
  {
   "cell_type": "markdown",
   "metadata": {},
   "source": [
    "<b>oh, is it right? The first \"0\" is at the 7th position!\n",
    "Python starts from zero. Remind it!</b>"
   ]
  },
  {
   "cell_type": "code",
   "execution_count": 8,
   "metadata": {},
   "outputs": [
    {
     "name": "stdout",
     "output_type": "stream",
     "text": [
      "0.02_T.dat\n"
     ]
    },
    {
     "data": {
      "text/plain": [
       "'0.02_T'"
      ]
     },
     "execution_count": 8,
     "metadata": {},
     "output_type": "execute_result"
    }
   ],
   "source": [
    "print(filename[6:]) # 6: means \"from element 6 on\"\n",
    "filename[6:-4] # means from 6th element to the 4th element to the end"
   ]
  },
  {
   "cell_type": "code",
   "execution_count": 8,
   "metadata": {},
   "outputs": [
    {
     "name": "stdout",
     "output_type": "stream",
     "text": [
      "F64AC_0.02_T.DAT\n",
      "False\n",
      "f64ac_0.02_t.dat\n"
     ]
    }
   ],
   "source": [
    "# Other methods: explore yourself\n",
    "print(filename.upper())\n",
    "print(filename.islower()) # We will check this variable soon\n",
    "print(filename.lower())"
   ]
  },
  {
   "cell_type": "markdown",
   "metadata": {},
   "source": [
    "### A string is numerable"
   ]
  },
  {
   "cell_type": "code",
   "execution_count": 12,
   "metadata": {},
   "outputs": [
    {
     "name": "stdout",
     "output_type": "stream",
     "text": [
      "a\n",
      "----------------------------------------\n",
      "F\n",
      "6\n",
      "4\n",
      "a\n",
      "c\n",
      "_\n",
      "0\n",
      ".\n",
      "0\n",
      "2\n",
      "_\n",
      "T\n",
      ".\n",
      "d\n",
      "a\n",
      "t\n"
     ]
    }
   ],
   "source": [
    "# If an object is numerable...\n",
    "# ... you can get a single element using the square brakets and the position\n",
    "print(filename[3])\n",
    "print(\"-\"*40)\n",
    "# ... you get all the elements using a loop\n",
    "for element in filename:\n",
    "    print(element)"
   ]
  },
  {
   "cell_type": "markdown",
   "metadata": {},
   "source": [
    "### A string is immutable"
   ]
  },
  {
   "cell_type": "code",
   "execution_count": 13,
   "metadata": {},
   "outputs": [
    {
     "ename": "TypeError",
     "evalue": "'str' object does not support item assignment",
     "output_type": "error",
     "traceback": [
      "\u001b[1;31m---------------------------------------------------------------------------\u001b[0m",
      "\u001b[1;31mTypeError\u001b[0m                                 Traceback (most recent call last)",
      "\u001b[1;32m<ipython-input-13-015add3d6490>\u001b[0m in \u001b[0;36m<module>\u001b[1;34m\u001b[0m\n\u001b[0;32m      1\u001b[0m \u001b[1;31m# i.e. you cannot change one of its elements\u001b[0m\u001b[1;33m\u001b[0m\u001b[1;33m\u001b[0m\u001b[1;33m\u001b[0m\u001b[0m\n\u001b[1;32m----> 2\u001b[1;33m \u001b[0mfilename\u001b[0m\u001b[1;33m[\u001b[0m\u001b[1;36m6\u001b[0m\u001b[1;33m]\u001b[0m \u001b[1;33m=\u001b[0m \u001b[1;34m\"2\"\u001b[0m\u001b[1;33m\u001b[0m\u001b[1;33m\u001b[0m\u001b[0m\n\u001b[0m",
      "\u001b[1;31mTypeError\u001b[0m: 'str' object does not support item assignment"
     ]
    }
   ],
   "source": [
    "# i.e. you cannot change one of its elements\n",
    "filename[6] = \"2\""
   ]
  },
  {
   "cell_type": "markdown",
   "metadata": {},
   "source": [
    "### How can we extract information encoded in a string?\n",
    "This filename, for instance, is made as follows:\n",
    "Material_Frequency_TypeOfData.dat\n",
    "\n",
    "How do we extract the frequency?"
   ]
  },
  {
   "cell_type": "code",
   "execution_count": 12,
   "metadata": {},
   "outputs": [
    {
     "data": {
      "text/plain": [
       "['F64ac', '0.02', 'T.dat']"
      ]
     },
     "execution_count": 12,
     "metadata": {},
     "output_type": "execute_result"
    }
   ],
   "source": [
    "# Use the split method with an arbitrary element\n",
    "filename.split(\"_\")"
   ]
  },
  {
   "cell_type": "code",
   "execution_count": 15,
   "metadata": {},
   "outputs": [
    {
     "data": {
      "text/plain": [
       "list"
      ]
     },
     "execution_count": 15,
     "metadata": {},
     "output_type": "execute_result"
    }
   ],
   "source": [
    "# What is ths \"[]\"? Let's investigate\n",
    "l = filename.split(\"_\")\n",
    "type(l)"
   ]
  },
  {
   "cell_type": "markdown",
   "metadata": {},
   "source": [
    "I guess a list has some methods, does it?"
   ]
  },
  {
   "cell_type": "code",
   "execution_count": 16,
   "metadata": {},
   "outputs": [
    {
     "name": "stdout",
     "output_type": "stream",
     "text": [
      "['0.02', 'T.dat']\n",
      "['F64ac', '0.02']\n",
      "['F64ac', '0.02', 'T.dat', 'something']\n",
      "['F64ac', '0.02', 'T.dat', 'something', 43]\n",
      "['F64ac', '0.02', 'T.dat', 'something']\n"
     ]
    }
   ],
   "source": [
    "print(l[1:]) # Numerable\n",
    "print(l[:-1]) # What is this???\n",
    "l.append(\"something\")\n",
    "print(l)\n",
    "l.append(43)\n",
    "print(l)\n",
    "l.pop()\n",
    "print(l)"
   ]
  },
  {
   "cell_type": "markdown",
   "metadata": {},
   "source": [
    "Something to say?\n",
    "\n",
    "Something you learn by using the method and you understand.\n",
    "Some other time is better to ask for kelp."
   ]
  },
  {
   "cell_type": "code",
   "execution_count": 17,
   "metadata": {},
   "outputs": [],
   "source": [
    "l.pop?"
   ]
  },
  {
   "cell_type": "code",
   "execution_count": 25,
   "metadata": {},
   "outputs": [
    {
     "data": {
      "text/plain": [
       "['F64ac', '0.02', 'T', 'nice!', 3]"
      ]
     },
     "execution_count": 25,
     "metadata": {},
     "output_type": "execute_result"
    }
   ],
   "source": [
    "out = filename[:-4].split(\"_\")\n",
    "out.append(\"nice!\")\n",
    "out.append(3)\n",
    "out"
   ]
  },
  {
   "cell_type": "code",
   "execution_count": 26,
   "metadata": {},
   "outputs": [
    {
     "data": {
      "text/plain": [
       "['F64ac', '0.02', 'T', 'nice!', 3, [...]]"
      ]
     },
     "execution_count": 26,
     "metadata": {},
     "output_type": "execute_result"
    }
   ],
   "source": [
    "out.append(out)\n",
    "out\n",
    "# the result depends on how many times you run it!"
   ]
  },
  {
   "cell_type": "code",
   "execution_count": 27,
   "metadata": {},
   "outputs": [
    {
     "data": {
      "text/plain": [
       "['F64ac', '0.02', 'T', 'nice!', 3]"
      ]
     },
     "execution_count": 27,
     "metadata": {},
     "output_type": "execute_result"
    }
   ],
   "source": [
    "out2 = out.pop()\n",
    "out2"
   ]
  },
  {
   "cell_type": "markdown",
   "metadata": {},
   "source": [
    "### Back to the filename: there is also a smarter way to split the name from the extension"
   ]
  },
  {
   "cell_type": "code",
   "execution_count": 30,
   "metadata": {},
   "outputs": [
    {
     "data": {
      "text/plain": [
       "('F64ac_0.02_T', '.dat')"
      ]
     },
     "execution_count": 30,
     "metadata": {},
     "output_type": "execute_result"
    }
   ],
   "source": [
    "os.path.splitext(filename)"
   ]
  },
  {
   "cell_type": "code",
   "execution_count": 31,
   "metadata": {},
   "outputs": [
    {
     "name": "stdout",
     "output_type": "stream",
     "text": [
      "('F64ac_0.02_T', '.dat') <class 'tuple'>\n"
     ]
    }
   ],
   "source": [
    "# oh, now \"()\" ??? What is it?\n",
    "q = os.path.splitext(filename)\n",
    "print(q, type(q))"
   ]
  },
  {
   "cell_type": "code",
   "execution_count": 66,
   "metadata": {},
   "outputs": [],
   "source": [
    "# So it splits the basename and the extension into a tuple. So can I...\n",
    "basename, extension = os.path.splitext(filename)"
   ]
  },
  {
   "cell_type": "code",
   "execution_count": 67,
   "metadata": {},
   "outputs": [
    {
     "data": {
      "text/plain": [
       "'F64ac_0.02_T'"
      ]
     },
     "execution_count": 67,
     "metadata": {},
     "output_type": "execute_result"
    }
   ],
   "source": [
    "# Nice, no need of parenthesis\n",
    "basename # Yes!"
   ]
  },
  {
   "cell_type": "code",
   "execution_count": 68,
   "metadata": {},
   "outputs": [
    {
     "data": {
      "text/plain": [
       "'.dat'"
      ]
     },
     "execution_count": 68,
     "metadata": {},
     "output_type": "execute_result"
    }
   ],
   "source": [
    "extension"
   ]
  },
  {
   "cell_type": "code",
   "execution_count": 69,
   "metadata": {},
   "outputs": [
    {
     "name": "stdout",
     "output_type": "stream",
     "text": [
      "0.02\n"
     ]
    }
   ],
   "source": [
    "# So finally I can split the base name and take the second element for the frequency\n",
    "# Even better I can immediately get the frequency as\n",
    "material, freq, measure = basename.split(\"_\")\n",
    "print(freq) "
   ]
  },
  {
   "cell_type": "code",
   "execution_count": 70,
   "metadata": {},
   "outputs": [
    {
     "data": {
      "text/plain": [
       "'0.02'"
      ]
     },
     "execution_count": 70,
     "metadata": {},
     "output_type": "execute_result"
    }
   ],
   "source": [
    "# Or even...\n",
    "material, freq, measure = os.path.splitext(filename)[0].split(\"_\")\n",
    "freq # This is still a string!"
   ]
  },
  {
   "cell_type": "markdown",
   "metadata": {},
   "source": [
    "## Something about tuples\n",
    "### A tuple is immutable, but numerable"
   ]
  },
  {
   "cell_type": "code",
   "execution_count": 71,
   "metadata": {},
   "outputs": [
    {
     "data": {
      "text/plain": [
       "tuple"
      ]
     },
     "execution_count": 71,
     "metadata": {},
     "output_type": "execute_result"
    }
   ],
   "source": [
    "q = ('a', 'b')\n",
    "type(q)"
   ]
  },
  {
   "cell_type": "code",
   "execution_count": 72,
   "metadata": {},
   "outputs": [
    {
     "data": {
      "text/plain": [
       "'a'"
      ]
     },
     "execution_count": 72,
     "metadata": {},
     "output_type": "execute_result"
    }
   ],
   "source": [
    "q[0]"
   ]
  },
  {
   "cell_type": "code",
   "execution_count": 73,
   "metadata": {},
   "outputs": [
    {
     "ename": "TypeError",
     "evalue": "'tuple' object does not support item assignment",
     "output_type": "error",
     "traceback": [
      "\u001b[1;31m---------------------------------------------------------------------------\u001b[0m",
      "\u001b[1;31mTypeError\u001b[0m                                 Traceback (most recent call last)",
      "\u001b[1;32m<ipython-input-73-28edba4ec4fe>\u001b[0m in \u001b[0;36m<module>\u001b[1;34m\u001b[0m\n\u001b[1;32m----> 1\u001b[1;33m \u001b[0mq\u001b[0m\u001b[1;33m[\u001b[0m\u001b[1;36m0\u001b[0m\u001b[1;33m]\u001b[0m \u001b[1;33m=\u001b[0m \u001b[1;34m'c'\u001b[0m\u001b[1;33m\u001b[0m\u001b[1;33m\u001b[0m\u001b[0m\n\u001b[0m",
      "\u001b[1;31mTypeError\u001b[0m: 'tuple' object does not support item assignment"
     ]
    }
   ],
   "source": [
    "q[0] = 'c'"
   ]
  },
  {
   "cell_type": "markdown",
   "metadata": {},
   "source": [
    "### Formatting methods for strings\n",
    "\n",
    "How to we construct a string?"
   ]
  },
  {
   "cell_type": "code",
   "execution_count": 74,
   "metadata": {},
   "outputs": [
    {
     "name": "stdout",
     "output_type": "stream",
     "text": [
      "The sqrt of 326 is 18.05547\n",
      "The sqrt of 326 is 18.05547\n",
      "The sqrt of 326 is 18.05547\n"
     ]
    }
   ],
   "source": [
    "# Formatting methods can be found here:\n",
    "# https://docs.python.org/3.7/whatsnew/2.6.html#pep-3101-advanced-string-formatting\n",
    "# There are two versions\n",
    "n = 326\n",
    "print(\"The sqrt of {x:n} is {y:.5f}\".format(x=n, y=n**.5)) # From 2.7 and 3.5\n",
    "# or\n",
    "print(\"The sqrt of {0:n} is {1:.5f}\".format(n, n**.5)) # From 2.7 and 3.5\n",
    "#\n",
    "print(\"The sqrt of %i is %.5f\" % (n, n**.5))"
   ]
  },
  {
   "cell_type": "markdown",
   "metadata": {},
   "source": [
    "## Problem n. 1"
   ]
  },
  {
   "cell_type": "markdown",
   "metadata": {},
   "source": [
    "### Construct the string: \"F64ac_0.02_T_2.dat\" starting from filename"
   ]
  },
  {
   "cell_type": "code",
   "execution_count": 75,
   "metadata": {},
   "outputs": [
    {
     "data": {
      "text/plain": [
       "'F64ac_0.02_T_2.dat'"
      ]
     },
     "execution_count": 75,
     "metadata": {},
     "output_type": "execute_result"
    }
   ],
   "source": [
    "# Solution n. 1\n",
    "# Not very pythonic\n",
    "filename2 = filename[:-4] + \"_2\" + filename[-4:]\n",
    "filename2"
   ]
  },
  {
   "cell_type": "code",
   "execution_count": 76,
   "metadata": {},
   "outputs": [
    {
     "data": {
      "text/plain": [
       "'F64ac_0.02_T_2.dat'"
      ]
     },
     "execution_count": 76,
     "metadata": {},
     "output_type": "execute_result"
    }
   ],
   "source": [
    "# Solution n. 2\n",
    "# Not bad, but not very general\n",
    "filename2 = filename.replace(\"T\", \"T_2\")\n",
    "filename2"
   ]
  },
  {
   "cell_type": "code",
   "execution_count": 77,
   "metadata": {},
   "outputs": [
    {
     "data": {
      "text/plain": [
       "'F64ac_0.02_T_2.dat'"
      ]
     },
     "execution_count": 77,
     "metadata": {},
     "output_type": "execute_result"
    }
   ],
   "source": [
    "# Solution n. 3\n",
    "\"%s_2%s\" % os.path.splitext(filename)\n",
    "# Hmmm, a little better"
   ]
  },
  {
   "cell_type": "code",
   "execution_count": 78,
   "metadata": {},
   "outputs": [
    {
     "data": {
      "text/plain": [
       "'F64ac_0.02_T_2.dat'"
      ]
     },
     "execution_count": 78,
     "metadata": {},
     "output_type": "execute_result"
    }
   ],
   "source": [
    "# Solution n. 3b\n",
    "basename, ext = os.path.splitext(filename)\n",
    "\"%s_%s%s\" % (basename, 2, ext) # the 3 elements have to stay in a tuple"
   ]
  },
  {
   "cell_type": "code",
   "execution_count": 79,
   "metadata": {},
   "outputs": [
    {
     "name": "stdout",
     "output_type": "stream",
     "text": [
      "F64ac_0.02_T_2.dat\n",
      "F64ac_0.02_T_2.dat\n"
     ]
    }
   ],
   "source": [
    "# Even better\n",
    "print(\"{0}_{1}{2}\".format(basename, 2, extension)) # In Python 3.X\n",
    "print(\"{}_{}{}\".format(basename, 2, extension)) # This works as well"
   ]
  },
  {
   "cell_type": "markdown",
   "metadata": {},
   "source": [
    "### In general we can have thousand of files, so we need to write the number \"2\" with some leading zeros, so to preserve the order of the filenames: \"F64ac_0.02_T_0002.dat\""
   ]
  },
  {
   "cell_type": "code",
   "execution_count": 80,
   "metadata": {},
   "outputs": [
    {
     "name": "stdout",
     "output_type": "stream",
     "text": [
      "F64ac_0.02_T_0002.dat\n",
      "F64ac_0.02_T_0002.dat\n",
      "F64ac_0.02_T_0002.dat\n"
     ]
    }
   ],
   "source": [
    "print(\"{0}_{1}{2}\".format(basename, \"2\".rjust(4, \"0\"), extension))\n",
    "# Even simpler\n",
    "print(\"{0}_{1:0>4}{2}\".format(basename, \"2\", extension))\n",
    "# But also this works\n",
    "print(\"{0}_{1:0>4}{2}\".format(basename, 2, extension))"
   ]
  },
  {
   "cell_type": "markdown",
   "metadata": {},
   "source": [
    "### Now we want the filenames from 0000 to 1000 with step 100, preserving the order. \n",
    "\n",
    "Explore the use of range"
   ]
  },
  {
   "cell_type": "code",
   "execution_count": 81,
   "metadata": {},
   "outputs": [
    {
     "name": "stdout",
     "output_type": "stream",
     "text": [
      "F64ac_0.02_T_0000.dat\n",
      "F64ac_0.02_T_0100.dat\n",
      "F64ac_0.02_T_0200.dat\n",
      "F64ac_0.02_T_0300.dat\n",
      "F64ac_0.02_T_0400.dat\n",
      "F64ac_0.02_T_0500.dat\n",
      "F64ac_0.02_T_0600.dat\n",
      "F64ac_0.02_T_0700.dat\n",
      "F64ac_0.02_T_0800.dat\n",
      "F64ac_0.02_T_0900.dat\n",
      "F64ac_0.02_T_1000.dat\n"
     ]
    }
   ],
   "source": [
    "for i in range(0,1100,100):\n",
    "    print(\"{0}_{1:0>4}{2}\".format(basename, i, ext))"
   ]
  },
  {
   "cell_type": "markdown",
   "metadata": {},
   "source": [
    "## Problem 2"
   ]
  },
  {
   "cell_type": "markdown",
   "metadata": {},
   "source": [
    "### Let's do it a little more general, between n_min and n_max, with n_step\n",
    "### How to change the code above? (You can do it) "
   ]
  },
  {
   "cell_type": "code",
   "execution_count": 84,
   "metadata": {},
   "outputs": [
    {
     "ename": "ValueError",
     "evalue": "Invalid format specifier",
     "output_type": "error",
     "traceback": [
      "\u001b[1;31m---------------------------------------------------------------------------\u001b[0m",
      "\u001b[1;31mValueError\u001b[0m                                Traceback (most recent call last)",
      "\u001b[1;32m<ipython-input-84-d938317cfb27>\u001b[0m in \u001b[0;36m<module>\u001b[1;34m\u001b[0m\n\u001b[0;32m      2\u001b[0m \u001b[0mn_car\u001b[0m \u001b[1;33m=\u001b[0m \u001b[0mlen\u001b[0m\u001b[1;33m(\u001b[0m\u001b[0mstr\u001b[0m\u001b[1;33m(\u001b[0m\u001b[0mn_max\u001b[0m\u001b[1;33m)\u001b[0m\u001b[1;33m)\u001b[0m\u001b[1;33m\u001b[0m\u001b[1;33m\u001b[0m\u001b[0m\n\u001b[0;32m      3\u001b[0m \u001b[1;32mfor\u001b[0m \u001b[0mi\u001b[0m \u001b[1;32min\u001b[0m \u001b[0mrange\u001b[0m\u001b[1;33m(\u001b[0m\u001b[0mn_min\u001b[0m\u001b[1;33m,\u001b[0m \u001b[0mn_max\u001b[0m\u001b[1;33m+\u001b[0m\u001b[0mn_step\u001b[0m\u001b[1;33m,\u001b[0m \u001b[0mn_step\u001b[0m\u001b[1;33m)\u001b[0m\u001b[1;33m:\u001b[0m\u001b[1;33m\u001b[0m\u001b[1;33m\u001b[0m\u001b[0m\n\u001b[1;32m----> 4\u001b[1;33m      \u001b[0mprint\u001b[0m\u001b[1;33m(\u001b[0m\u001b[1;34m\"{0}_{1:0>n_car}{2}\"\u001b[0m\u001b[1;33m.\u001b[0m\u001b[0mformat\u001b[0m\u001b[1;33m(\u001b[0m\u001b[0mbasename\u001b[0m\u001b[1;33m,\u001b[0m \u001b[0mi\u001b[0m\u001b[1;33m,\u001b[0m \u001b[0mextension\u001b[0m\u001b[1;33m)\u001b[0m\u001b[1;33m)\u001b[0m \u001b[1;31m# This does not work!\u001b[0m\u001b[1;33m\u001b[0m\u001b[1;33m\u001b[0m\u001b[0m\n\u001b[0m",
      "\u001b[1;31mValueError\u001b[0m: Invalid format specifier"
     ]
    }
   ],
   "source": [
    "n_min, n_max, n_step = 0, 1000, 1000\n",
    "n_car = len(str(n_max))\n",
    "for i in range(n_min, n_max+n_step, n_step):\n",
    "     print(\"{0}_{1:0>n_car}{2}\".format(basename, i, extension)) # This does not work!"
   ]
  },
  {
   "cell_type": "code",
   "execution_count": 85,
   "metadata": {},
   "outputs": [
    {
     "name": "stdout",
     "output_type": "stream",
     "text": [
      "F64ac_0.02_T_000.dat\n",
      "F64ac_0.02_T_030.dat\n",
      "F64ac_0.02_T_060.dat\n",
      "F64ac_0.02_T_090.dat\n",
      "F64ac_0.02_T_120.dat\n",
      "F64ac_0.02_T_150.dat\n",
      "F64ac_0.02_T_180.dat\n",
      "F64ac_0.02_T_210.dat\n",
      "F64ac_0.02_T_240.dat\n",
      "F64ac_0.02_T_270.dat\n"
     ]
    }
   ],
   "source": [
    "n_min, n_max, n_step = 0, 270, 30\n",
    "n_car = len(str(n_max))\n",
    "for i in range(n_min, n_max+n_step, n_step):\n",
    "    print(\"{0}_{1}{2}\".format(basename, str(i).rjust(n_car, \"0\"), extension))"
   ]
  },
  {
   "cell_type": "markdown",
   "metadata": {
    "collapsed": true
   },
   "source": [
    "### Ok, I know we have not yet opened the file..."
   ]
  },
  {
   "cell_type": "code",
   "execution_count": null,
   "metadata": {},
   "outputs": [],
   "source": []
  }
 ],
 "metadata": {
  "kernelspec": {
   "display_name": "Python 3",
   "language": "python",
   "name": "python3"
  },
  "language_info": {
   "codemirror_mode": {
    "name": "ipython",
    "version": 3
   },
   "file_extension": ".py",
   "mimetype": "text/x-python",
   "name": "python",
   "nbconvert_exporter": "python",
   "pygments_lexer": "ipython3",
   "version": "3.7.1"
  }
 },
 "nbformat": 4,
 "nbformat_minor": 1
}
